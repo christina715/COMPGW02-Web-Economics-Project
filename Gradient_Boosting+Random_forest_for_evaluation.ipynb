{
 "cells": [
  {
   "cell_type": "code",
   "execution_count": 1,
   "metadata": {
    "collapsed": true
   },
   "outputs": [],
   "source": [
    "%matplotlib inline\n",
    "import json\n",
    "import pandas as pd\n",
    "import numpy as np\n",
    "import matplotlib.pyplot as plt\n",
    "import matplotlib.mlab as mlab\n",
    "from scipy import stats\n",
    "import powerlaw \n",
    "import seaborn as sns"
   ]
  },
  {
   "cell_type": "code",
   "execution_count": 2,
   "metadata": {
    "collapsed": false
   },
   "outputs": [
    {
     "data": {
      "text/plain": [
       "299749"
      ]
     },
     "execution_count": 2,
     "metadata": {},
     "output_type": "execute_result"
    }
   ],
   "source": [
    "train=pd.read_csv('train.csv')\n",
    "#test=pd.read_csv('test.csv')\n",
    "valid=pd.read_csv('validation.csv')\n",
    "len(valid)"
   ]
  },
  {
   "cell_type": "code",
   "execution_count": 4,
   "metadata": {
    "collapsed": true
   },
   "outputs": [],
   "source": [
    "import sqlite3\n",
    "from math import sqrt\n",
    "from sklearn.feature_extraction import DictVectorizer as DV\n",
    "#from sklearn.svm import SVC\n",
    "#from sklearn.ensemble import RandomForestClassifier as RF\n",
    "#from sklearn.metrics import roc_auc_score as AUC\n",
    "import statsmodels.api as sm\n"
   ]
  },
  {
   "cell_type": "code",
   "execution_count": 5,
   "metadata": {
    "collapsed": true
   },
   "outputs": [],
   "source": [
    "train[\"area\"]=train[\"slotheight\"]*train[\"slotwidth\"]\n",
    "valid[\"area\"]=valid[\"slotheight\"]*valid[\"slotwidth\"]"
   ]
  },
  {
   "cell_type": "code",
   "execution_count": 6,
   "metadata": {
    "collapsed": false
   },
   "outputs": [],
   "source": [
    "#train_cols = data1.columns[1:]\n",
    "from sklearn import preprocessing\n",
    "import statsmodels.api as sm\n",
    "#from sklearn.linear_model import LogisticRegression\n",
    "#from sklearn.ensemble import RandomForestRegressor, BaggingRegressor\n",
    "label_encoder = preprocessing.LabelEncoder()\n",
    "train['hour']=label_encoder.fit_transform(train['hour'])\n",
    "train['weekday']=label_encoder.fit_transform(train['weekday'])\n",
    "train['advertiser']=label_encoder.fit_transform(train['advertiser'])\n",
    "train['area']=label_encoder.fit_transform(train['area'])\n",
    "train['adexchange']=label_encoder.fit_transform(train['adexchange'])\n",
    "train['slotprice']=label_encoder.fit_transform(train['slotprice'])\n",
    "train['slotformat']=label_encoder.fit_transform(train['slotformat'])\n",
    "train['slotvisibility']=label_encoder.fit_transform(train['slotvisibility'])\n",
    "\n",
    "features =['weekday', 'hour','advertiser','area','adexchange','slotprice','slotformat','slotvisibility']\n",
    "\n",
    "valid['hour']=label_encoder.fit_transform(valid['hour'])\n",
    "valid['weekday']=label_encoder.fit_transform(valid['weekday'])\n",
    "valid['advertiser']=label_encoder.fit_transform(valid['advertiser'])\n",
    "valid['area']=label_encoder.fit_transform(valid['area'])\n",
    "valid['adexchange']=label_encoder.fit_transform(valid['adexchange'])\n",
    "valid['slotprice']=label_encoder.fit_transform(valid['slotprice'])\n",
    "valid['slotformat']=label_encoder.fit_transform(valid['slotformat'])\n",
    "valid['slotvisibility']=label_encoder.fit_transform(valid['slotvisibility'])"
   ]
  },
  {
   "cell_type": "code",
   "execution_count": 10,
   "metadata": {
    "collapsed": true
   },
   "outputs": [],
   "source": [
    "from sklearn import ensemble\n",
    "#from sklearn.ensemble import GradientBoostingRegressor\n",
    "from sklearn.ensemble import GradientBoostingClassifier"
   ]
  },
  {
   "cell_type": "code",
   "execution_count": 114,
   "metadata": {
    "collapsed": false
   },
   "outputs": [],
   "source": [
    "x_train=train[features]\n",
    "y_train=train['click']\n",
    "x_test=valid[features]"
   ]
  },
  {
   "cell_type": "code",
   "execution_count": null,
   "metadata": {
    "collapsed": true
   },
   "outputs": [],
   "source": []
  },
  {
   "cell_type": "code",
   "execution_count": 135,
   "metadata": {
    "collapsed": false
   },
   "outputs": [],
   "source": [
    "from sklearn.ensemble import RandomForestClassifier, BaggingClassifier\n",
    "#rf = RandomForestRegressor(n_estimators=15, max_depth=6, random_state=0)\n",
    "rf = RandomForestClassifier(n_estimators=20, max_depth=7, random_state=0)\n",
    "clf = BaggingClassifier(rf, n_estimators=40, max_samples=0.1, random_state=25)\n",
    "clf.fit(x_train, y_train)\n",
    "y_pred2 = clf.predict_proba(x_test)\n",
    "y_pred2"
   ]
  },
  {
   "cell_type": "code",
   "execution_count": 162,
   "metadata": {
    "collapsed": false
   },
   "outputs": [
    {
     "data": {
      "text/plain": [
       "array([[  9.98989495e-01,   1.01050509e-03],\n",
       "       [  9.93105198e-01,   6.89480171e-03],\n",
       "       [  9.98859870e-01,   1.14012961e-03],\n",
       "       ..., \n",
       "       [  9.99476845e-01,   5.23154576e-04],\n",
       "       [  9.99757274e-01,   2.42725763e-04],\n",
       "       [  9.98756041e-01,   1.24395867e-03]])"
      ]
     },
     "execution_count": 162,
     "metadata": {},
     "output_type": "execute_result"
    }
   ],
   "source": [
    "\n",
    "params = {'n_estimators': 250, 'max_depth': 4, 'min_samples_split': 2,\n",
    "          'learning_rate': 0.05, 'loss': 'deviance'}\n",
    "clf = ensemble.GradientBoostingClassifier(**params)\n",
    "\n",
    "clf.fit(x_train, y_train)\n",
    "\n",
    "y_pred1 = clf.predict_proba(x_test)\n",
    "y_pred1"
   ]
  },
  {
   "cell_type": "code",
   "execution_count": 163,
   "metadata": {
    "collapsed": false
   },
   "outputs": [
    {
     "data": {
      "text/plain": [
       "299749"
      ]
     },
     "execution_count": 163,
     "metadata": {},
     "output_type": "execute_result"
    }
   ],
   "source": [
    "pre_1=[]\n",
    "for a in y_pred1:\n",
    "    pre_1.append(a[1])\n",
    "len(pre_1)"
   ]
  },
  {
   "cell_type": "code",
   "execution_count": 164,
   "metadata": {
    "collapsed": false
   },
   "outputs": [
    {
     "data": {
      "text/plain": [
       "299749"
      ]
     },
     "execution_count": 164,
     "metadata": {},
     "output_type": "execute_result"
    }
   ],
   "source": [
    "pre_2=[]\n",
    "for b in y_pred2:\n",
    "    pre_2.append(b[1])\n",
    "len(pre_2)"
   ]
  },
  {
   "cell_type": "code",
   "execution_count": 165,
   "metadata": {
    "collapsed": false
   },
   "outputs": [],
   "source": [
    "y_pre=valid['click']"
   ]
  },
  {
   "cell_type": "code",
   "execution_count": 286,
   "metadata": {
    "collapsed": false
   },
   "outputs": [],
   "source": [
    "pre_3=[]\n",
    "for i in range(0,299749):\n",
    "    pre=0.9*pre_1[i]+0.1*pre_2[i]\n",
    "    pre_3.append(pre)"
   ]
  },
  {
   "cell_type": "code",
   "execution_count": 287,
   "metadata": {
    "collapsed": false
   },
   "outputs": [
    {
     "data": {
      "text/plain": [
       "0.027434422574643239"
      ]
     },
     "execution_count": 287,
     "metadata": {},
     "output_type": "execute_result"
    }
   ],
   "source": [
    "from sklearn.metrics import mean_squared_error, make_scorer\n",
    "mse = mean_squared_error(y_pre, pre_3, sample_weight=None, multioutput='uniform_average')\n",
    "np.sqrt(mse)"
   ]
  },
  {
   "cell_type": "code",
   "execution_count": 288,
   "metadata": {
    "collapsed": false
   },
   "outputs": [
    {
     "data": {
      "text/plain": [
       "0.69233133780055423"
      ]
     },
     "execution_count": 288,
     "metadata": {},
     "output_type": "execute_result"
    }
   ],
   "source": [
    "import numpy as np\n",
    "from sklearn.metrics import roc_auc_score\n",
    "auc=roc_auc_score(y_pre, pre_3)\n",
    "auc"
   ]
  },
  {
   "cell_type": "code",
   "execution_count": 289,
   "metadata": {
    "collapsed": false
   },
   "outputs": [
    {
     "data": {
      "text/plain": [
       "0.0007539649884458758"
      ]
     },
     "execution_count": 289,
     "metadata": {},
     "output_type": "execute_result"
    }
   ],
   "source": [
    "avg_CTR=sum(train['click'])/len(train)\n",
    "avg_CTR"
   ]
  },
  {
   "cell_type": "code",
   "execution_count": 370,
   "metadata": {
    "collapsed": false
   },
   "outputs": [],
   "source": [
    "#base_bid=sum(train['bidprice'])/len(train)\n",
    "#from statistics import mode\n",
    "base_bid=70 #average bid, 150"
   ]
  },
  {
   "cell_type": "code",
   "execution_count": 371,
   "metadata": {
    "collapsed": false
   },
   "outputs": [],
   "source": [
    "L1=valid['bidprice'].values/1000\n",
    "L2=valid['payprice'].values/1000"
   ]
  },
  {
   "cell_type": "code",
   "execution_count": 372,
   "metadata": {
    "collapsed": false
   },
   "outputs": [],
   "source": [
    "L=[]\n",
    "for i in range(0,299749):\n",
    "    p_bid=base_bid*(pre_3[i])/avg_CTR/1000\n",
    "    if p_bid>=(L2[i]):\n",
    "        L.append(L2[i])\n",
    "    else:\n",
    "        L.append(0)"
   ]
  },
  {
   "cell_type": "code",
   "execution_count": 373,
   "metadata": {
    "collapsed": false
   },
   "outputs": [
    {
     "data": {
      "text/plain": [
       "299749"
      ]
     },
     "execution_count": 373,
     "metadata": {},
     "output_type": "execute_result"
    }
   ],
   "source": [
    "len(L)"
   ]
  },
  {
   "cell_type": "code",
   "execution_count": 374,
   "metadata": {
    "collapsed": false
   },
   "outputs": [],
   "source": [
    "new_bid = pd.DataFrame(L,columns=['pre_bid'])"
   ]
  },
  {
   "cell_type": "code",
   "execution_count": 375,
   "metadata": {
    "collapsed": false
   },
   "outputs": [],
   "source": [
    "frames=[valid,new_bid]\n",
    "new_valid=pd.concat(frames,axis=1)"
   ]
  },
  {
   "cell_type": "code",
   "execution_count": 376,
   "metadata": {
    "collapsed": false
   },
   "outputs": [],
   "source": [
    "new_valid=new_valid[new_valid.pre_bid!=0]\n"
   ]
  },
  {
   "cell_type": "code",
   "execution_count": 377,
   "metadata": {
    "collapsed": false,
    "scrolled": false
   },
   "outputs": [
    {
     "name": "stdout",
     "output_type": "stream",
     "text": [
      "0.000861093881125\n",
      "118\n",
      "6111.752\n",
      "44.5999343233\n",
      "51.7945084746\n"
     ]
    }
   ],
   "source": [
    "ctr_cons= sum(new_valid.click)/len(new_valid)\n",
    "click_cons = sum(new_valid.click)\n",
    "cost=sum(new_valid[\"payprice\"])/1000\n",
    "avg_CPM = sum(new_valid.payprice)/1000/(len(new_valid.logtype)/1000)\n",
    "eCPC = sum(new_valid.payprice)/1000/sum(new_valid.click)\n",
    "print(ctr_cons)\n",
    "print(click_cons)\n",
    "print(cost)\n",
    "print(avg_CPM)\n",
    "print(eCPC)"
   ]
  },
  {
   "cell_type": "code",
   "execution_count": 378,
   "metadata": {
    "collapsed": false
   },
   "outputs": [],
   "source": [
    "cumsum_cost = np.cumsum(new_valid.payprice)\n",
    "new_valid[\"cumsum_cost\"] = cumsum_cost\n",
    "new_valid1 = new_valid.loc[(cumsum_cost < 3125000)]\n",
    "new_valid2 = new_valid.loc[(cumsum_cost < 6250000)]\n",
    "\n"
   ]
  },
  {
   "cell_type": "code",
   "execution_count": 379,
   "metadata": {
    "collapsed": false
   },
   "outputs": [
    {
     "name": "stdout",
     "output_type": "stream",
     "text": [
      "0.000967241796225\n",
      "68\n",
      "3124.997\n",
      "44.4504075217\n",
      "45.9558382353\n"
     ]
    }
   ],
   "source": [
    "ctr_cons= sum(new_valid1.click)/len(new_valid1)\n",
    "click_cons = sum(new_valid1.click)\n",
    "cost=sum(new_valid1[\"payprice\"])/1000\n",
    "avg_CPM = sum(new_valid1.payprice)/1000/(len(new_valid1.logtype)/1000)\n",
    "eCPC = sum(new_valid1.payprice)/1000/sum(new_valid1.click)\n",
    "print(ctr_cons)\n",
    "print(click_cons)\n",
    "print(cost)\n",
    "print(avg_CPM)\n",
    "print(eCPC)"
   ]
  },
  {
   "cell_type": "code",
   "execution_count": 380,
   "metadata": {
    "collapsed": false,
    "scrolled": false
   },
   "outputs": [
    {
     "name": "stdout",
     "output_type": "stream",
     "text": [
      "0.000861093881125\n",
      "118\n",
      "6111.752\n",
      "44.5999343233\n",
      "51.7945084746\n"
     ]
    }
   ],
   "source": [
    "ctr_cons= sum(new_valid2.click)/len(new_valid2)\n",
    "click_cons = sum(new_valid2.click)\n",
    "cost=sum(new_valid2[\"payprice\"])/1000\n",
    "avg_CPM = sum(new_valid2.payprice)/1000/(len(new_valid2.logtype)/1000)\n",
    "eCPC = sum(new_valid2.payprice)/1000/sum(new_valid2.click)\n",
    "print(ctr_cons)\n",
    "print(click_cons)\n",
    "print(cost)\n",
    "print(avg_CPM)\n",
    "print(eCPC)"
   ]
  },
  {
   "cell_type": "code",
   "execution_count": null,
   "metadata": {
    "collapsed": true
   },
   "outputs": [],
   "source": []
  },
  {
   "cell_type": "code",
   "execution_count": null,
   "metadata": {
    "collapsed": true
   },
   "outputs": [],
   "source": []
  },
  {
   "cell_type": "code",
   "execution_count": null,
   "metadata": {
    "collapsed": true
   },
   "outputs": [],
   "source": []
  },
  {
   "cell_type": "code",
   "execution_count": null,
   "metadata": {
    "collapsed": true
   },
   "outputs": [],
   "source": []
  }
 ],
 "metadata": {
  "anaconda-cloud": {},
  "kernelspec": {
   "display_name": "Python [conda root]",
   "language": "python",
   "name": "conda-root-py"
  },
  "language_info": {
   "codemirror_mode": {
    "name": "ipython",
    "version": 3
   },
   "file_extension": ".py",
   "mimetype": "text/x-python",
   "name": "python",
   "nbconvert_exporter": "python",
   "pygments_lexer": "ipython3",
   "version": "3.5.2"
  }
 },
 "nbformat": 4,
 "nbformat_minor": 1
}
