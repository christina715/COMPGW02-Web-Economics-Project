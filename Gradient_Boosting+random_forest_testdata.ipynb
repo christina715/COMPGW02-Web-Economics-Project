{
 "cells": [
  {
   "cell_type": "code",
   "execution_count": 7,
   "metadata": {
    "collapsed": false
   },
   "outputs": [],
   "source": [
    "%matplotlib inline\n",
    "import json\n",
    "import pandas as pd\n",
    "import numpy as np\n",
    "import matplotlib.pyplot as plt\n",
    "import matplotlib.mlab as mlab\n",
    "from scipy import stats\n",
    "#import powerlaw \n",
    "import seaborn as sns"
   ]
  },
  {
   "cell_type": "code",
   "execution_count": 8,
   "metadata": {
    "collapsed": false
   },
   "outputs": [],
   "source": [
    "train = pd.read_csv('we/dataset/train.csv')\n",
    "test = pd.read_csv('we/dataset/test.csv')\n",
    "valid = pd.read_csv('we/dataset/validation.csv')"
   ]
  },
  {
   "cell_type": "code",
   "execution_count": 9,
   "metadata": {
    "collapsed": true
   },
   "outputs": [],
   "source": [
    "import sqlite3\n",
    "from math import sqrt\n",
    "from sklearn.feature_extraction import DictVectorizer as DV\n",
    "#from sklearn.svm import SVC\n",
    "#from sklearn.ensemble import RandomForestClassifier as RF\n",
    "#from sklearn.metrics import roc_auc_score as AUC\n",
    "import statsmodels.api as sm\n"
   ]
  },
  {
   "cell_type": "code",
   "execution_count": 10,
   "metadata": {
    "collapsed": true
   },
   "outputs": [],
   "source": [
    "train[\"area\"]=train[\"slotheight\"]*train[\"slotwidth\"]\n",
    "test[\"area\"]=test[\"slotheight\"]*test[\"slotwidth\"]"
   ]
  },
  {
   "cell_type": "code",
   "execution_count": 11,
   "metadata": {
    "collapsed": false
   },
   "outputs": [],
   "source": [
    "#train_cols = data1.columns[1:]\n",
    "from sklearn import preprocessing\n",
    "import statsmodels.api as sm\n",
    "#from sklearn.linear_model import LogisticRegression\n",
    "#from sklearn.ensemble import RandomForestRegressor, BaggingRegressor\n",
    "label_encoder = preprocessing.LabelEncoder()\n",
    "train['hour']=label_encoder.fit_transform(train['hour'])\n",
    "train['weekday']=label_encoder.fit_transform(train['weekday'])\n",
    "train['advertiser']=label_encoder.fit_transform(train['advertiser'])\n",
    "train['area']=label_encoder.fit_transform(train['area'])\n",
    "train['adexchange']=label_encoder.fit_transform(train['adexchange'])\n",
    "train['slotprice']=label_encoder.fit_transform(train['slotprice'])\n",
    "train['slotformat']=label_encoder.fit_transform(train['slotformat'])\n",
    "train['slotvisibility']=label_encoder.fit_transform(train['slotvisibility'])\n",
    "\n",
    "features =['weekday', 'hour','advertiser','area','adexchange','slotprice','slotformat','slotvisibility']\n",
    "\n",
    "test['hour']=label_encoder.fit_transform(test['hour'])\n",
    "test['weekday']=label_encoder.fit_transform(test['weekday'])\n",
    "test['advertiser']=label_encoder.fit_transform(test['advertiser'])\n",
    "test['area']=label_encoder.fit_transform(test['area'])\n",
    "test['adexchange']=label_encoder.fit_transform(test['adexchange'])\n",
    "test['slotprice']=label_encoder.fit_transform(test['slotprice'])\n",
    "test['slotformat']=label_encoder.fit_transform(test['slotformat'])\n",
    "test['slotvisibility']=label_encoder.fit_transform(test['slotvisibility'])"
   ]
  },
  {
   "cell_type": "code",
   "execution_count": 12,
   "metadata": {
    "collapsed": true
   },
   "outputs": [],
   "source": [
    "from sklearn import ensemble\n",
    "#from sklearn.ensemble import GradientBoostingRegressor\n",
    "from sklearn.ensemble import GradientBoostingClassifier"
   ]
  },
  {
   "cell_type": "code",
   "execution_count": 13,
   "metadata": {
    "collapsed": false
   },
   "outputs": [],
   "source": [
    "x_train=train[features]\n",
    "y_train=train['click']\n",
    "x_test=test[features]"
   ]
  },
  {
   "cell_type": "code",
   "execution_count": 14,
   "metadata": {
    "collapsed": false
   },
   "outputs": [
    {
     "data": {
      "text/plain": [
       "array([[  9.98953182e-01,   1.04681798e-03],\n",
       "       [  9.99000528e-01,   9.99471828e-04],\n",
       "       [  9.99562844e-01,   4.37156018e-04],\n",
       "       ..., \n",
       "       [  9.98799170e-01,   1.20083033e-03],\n",
       "       [  9.99632907e-01,   3.67093199e-04],\n",
       "       [  9.99723234e-01,   2.76765856e-04]])"
      ]
     },
     "execution_count": 14,
     "metadata": {},
     "output_type": "execute_result"
    }
   ],
   "source": [
    "from sklearn.ensemble import RandomForestClassifier, BaggingClassifier\n",
    "#rf = RandomForestRegressor(n_estimators=15, max_depth=6, random_state=0)\n",
    "rf = RandomForestClassifier(n_estimators=20, max_depth=7, random_state=0)\n",
    "clf = BaggingClassifier(rf, n_estimators=40, max_samples=0.1, random_state=25)\n",
    "clf.fit(x_train, y_train)\n",
    "y_pred2 = clf.predict_proba(x_test)\n",
    "y_pred2"
   ]
  },
  {
   "cell_type": "code",
   "execution_count": 15,
   "metadata": {
    "collapsed": false
   },
   "outputs": [
    {
     "data": {
      "text/plain": [
       "array([[  9.98762150e-01,   1.23785027e-03],\n",
       "       [  9.99311494e-01,   6.88505770e-04],\n",
       "       [  9.99668452e-01,   3.31548163e-04],\n",
       "       ..., \n",
       "       [  9.98767737e-01,   1.23226324e-03],\n",
       "       [  9.99581179e-01,   4.18821193e-04],\n",
       "       [  9.99692159e-01,   3.07841333e-04]])"
      ]
     },
     "execution_count": 15,
     "metadata": {},
     "output_type": "execute_result"
    }
   ],
   "source": [
    "\n",
    "params = {'n_estimators': 250, 'max_depth': 4, 'min_samples_split': 2,\n",
    "          'learning_rate': 0.05, 'loss': 'deviance'}\n",
    "clf = ensemble.GradientBoostingClassifier(**params)\n",
    "\n",
    "clf.fit(x_train, y_train)\n",
    "\n",
    "y_pred1 = clf.predict_proba(x_test)\n",
    "y_pred1"
   ]
  },
  {
   "cell_type": "code",
   "execution_count": 16,
   "metadata": {
    "collapsed": false
   },
   "outputs": [
    {
     "data": {
      "text/plain": [
       "299749"
      ]
     },
     "execution_count": 16,
     "metadata": {},
     "output_type": "execute_result"
    }
   ],
   "source": [
    "pre_1=[]\n",
    "for a in y_pred1:\n",
    "    pre_1.append(a[1])\n",
    "len(pre_1)"
   ]
  },
  {
   "cell_type": "code",
   "execution_count": 17,
   "metadata": {
    "collapsed": false
   },
   "outputs": [
    {
     "data": {
      "text/plain": [
       "299749"
      ]
     },
     "execution_count": 17,
     "metadata": {},
     "output_type": "execute_result"
    }
   ],
   "source": [
    "pre_2=[]\n",
    "for b in y_pred2:\n",
    "    pre_2.append(b[1])\n",
    "len(pre_2)"
   ]
  },
  {
   "cell_type": "code",
   "execution_count": 165,
   "metadata": {
    "collapsed": false
   },
   "outputs": [],
   "source": [
    "#y_pre=valid['click']"
   ]
  },
  {
   "cell_type": "code",
   "execution_count": 18,
   "metadata": {
    "collapsed": false
   },
   "outputs": [],
   "source": [
    "pre_3=[]\n",
    "for i in range(0,299749):\n",
    "    pre=0.9*pre_1[i]+0.1*pre_2[i]\n",
    "    pre_3.append(pre)"
   ]
  },
  {
   "cell_type": "code",
   "execution_count": 19,
   "metadata": {
    "collapsed": false
   },
   "outputs": [],
   "source": [
    "#from sklearn.metrics import mean_squared_error, make_scorer\n",
    "#mse = mean_squared_error(y_pre, pre_3, sample_weight=None, multioutput='uniform_average')\n",
    "#np.sqrt(mse)"
   ]
  },
  {
   "cell_type": "code",
   "execution_count": 39,
   "metadata": {
    "collapsed": false
   },
   "outputs": [],
   "source": [
    "#import numpy as np\n",
    "#from sklearn.metrics import roc_auc_score\n",
    "#auc=roc_auc_score(y_pre, pre_3)\n",
    "#auc\n",
    "#train[:10]"
   ]
  },
  {
   "cell_type": "code",
   "execution_count": 33,
   "metadata": {
    "collapsed": false
   },
   "outputs": [
    {
     "data": {
      "text/plain": [
       "0.0007539649884458758"
      ]
     },
     "execution_count": 33,
     "metadata": {},
     "output_type": "execute_result"
    }
   ],
   "source": [
    "avg_CTR=sum(train['click'])/len(train)\n",
    "avg_CTR"
   ]
  },
  {
   "cell_type": "code",
   "execution_count": 34,
   "metadata": {
    "collapsed": false
   },
   "outputs": [],
   "source": [
    "#base_bid=sum(train['bidprice'])/len(train)\n",
    "#from statistics import mode\n",
    "base_bid=70 #average bid, 150"
   ]
  },
  {
   "cell_type": "code",
   "execution_count": 35,
   "metadata": {
    "collapsed": false
   },
   "outputs": [],
   "source": [
    "#L1=valid['bidprice'].values/1000\n",
    "#L2=valid['payprice'].values/1000"
   ]
  },
  {
   "cell_type": "code",
   "execution_count": 36,
   "metadata": {
    "collapsed": true
   },
   "outputs": [],
   "source": [
    "L=[]\n",
    "\n",
    "for i in range(0,299749):\n",
    "    p_bid=base_bid*(pre_3[i])/avg_CTR\n",
    "    L.append(p_bid)"
   ]
  },
  {
   "cell_type": "code",
   "execution_count": 37,
   "metadata": {
    "collapsed": false
   },
   "outputs": [],
   "source": [
    "#L\n",
    "final = pd.DataFrame({\"bidid\": test['bidid'], \"bidprice\": L})"
   ]
  },
  {
   "cell_type": "code",
   "execution_count": 52,
   "metadata": {
    "collapsed": false
   },
   "outputs": [],
   "source": [
    "#final[-1:]\n",
    "#test[-1:]"
   ]
  },
  {
   "cell_type": "code",
   "execution_count": 45,
   "metadata": {
    "collapsed": false
   },
   "outputs": [],
   "source": [
    "final.to_csv('COMPGW02.csv',index=False)"
   ]
  }
 ],
 "metadata": {
  "anaconda-cloud": {},
  "kernelspec": {
   "display_name": "Python [conda root]",
   "language": "python",
   "name": "conda-root-py"
  },
  "language_info": {
   "codemirror_mode": {
    "name": "ipython",
    "version": 3
   },
   "file_extension": ".py",
   "mimetype": "text/x-python",
   "name": "python",
   "nbconvert_exporter": "python",
   "pygments_lexer": "ipython3",
   "version": "3.5.2"
  }
 },
 "nbformat": 4,
 "nbformat_minor": 1
}
