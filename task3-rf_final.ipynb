{
 "cells": [
  {
   "cell_type": "code",
   "execution_count": 242,
   "metadata": {
    "collapsed": true
   },
   "outputs": [],
   "source": [
    "%matplotlib inline\n",
    "import json\n",
    "import pandas as pd\n",
    "import numpy as np\n",
    "import matplotlib.pyplot as plt\n",
    "import matplotlib.mlab as mlab\n",
    "from scipy import stats\n",
    "import powerlaw \n",
    "import seaborn as sns"
   ]
  },
  {
   "cell_type": "code",
   "execution_count": 243,
   "metadata": {
    "collapsed": false
   },
   "outputs": [],
   "source": [
    "train=pd.read_csv('train.csv')\n",
    "test=pd.read_csv('test.csv')\n",
    "valid=pd.read_csv('validation.csv')\n"
   ]
  },
  {
   "cell_type": "code",
   "execution_count": 244,
   "metadata": {
    "collapsed": false
   },
   "outputs": [
    {
     "data": {
      "text/html": [
       "<div>\n",
       "<table border=\"1\" class=\"dataframe\">\n",
       "  <thead>\n",
       "    <tr style=\"text-align: right;\">\n",
       "      <th></th>\n",
       "      <th>click</th>\n",
       "      <th>weekday</th>\n",
       "      <th>hour</th>\n",
       "      <th>bidid</th>\n",
       "      <th>logtype</th>\n",
       "      <th>userid</th>\n",
       "      <th>useragent</th>\n",
       "      <th>IP</th>\n",
       "      <th>region</th>\n",
       "      <th>city</th>\n",
       "      <th>...</th>\n",
       "      <th>slotheight</th>\n",
       "      <th>slotvisibility</th>\n",
       "      <th>slotformat</th>\n",
       "      <th>slotprice</th>\n",
       "      <th>creative</th>\n",
       "      <th>bidprice</th>\n",
       "      <th>payprice</th>\n",
       "      <th>keypage</th>\n",
       "      <th>advertiser</th>\n",
       "      <th>usertag</th>\n",
       "    </tr>\n",
       "  </thead>\n",
       "  <tbody>\n",
       "    <tr>\n",
       "      <th>0</th>\n",
       "      <td>0</td>\n",
       "      <td>1</td>\n",
       "      <td>14</td>\n",
       "      <td>fdfae6789b787899f1b875de3ab8b21a</td>\n",
       "      <td>1</td>\n",
       "      <td>u_Vh1OPkFv3q5CFdR</td>\n",
       "      <td>windows_ie</td>\n",
       "      <td>180.107.112.*</td>\n",
       "      <td>80</td>\n",
       "      <td>85</td>\n",
       "      <td>...</td>\n",
       "      <td>60</td>\n",
       "      <td>1</td>\n",
       "      <td>0</td>\n",
       "      <td>5</td>\n",
       "      <td>612599432d200b093719dd1f372f7a30</td>\n",
       "      <td>300</td>\n",
       "      <td>54</td>\n",
       "      <td>bebefa5efe83beee17a3d245e7c5085b</td>\n",
       "      <td>1458</td>\n",
       "      <td>13866,10063</td>\n",
       "    </tr>\n",
       "    <tr>\n",
       "      <th>1</th>\n",
       "      <td>0</td>\n",
       "      <td>2</td>\n",
       "      <td>20</td>\n",
       "      <td>372883147cdefbc495fb5082f79dde9b</td>\n",
       "      <td>1</td>\n",
       "      <td>u_VhkRL6dCOTLsq-c</td>\n",
       "      <td>windows_chrome</td>\n",
       "      <td>125.120.199.*</td>\n",
       "      <td>94</td>\n",
       "      <td>95</td>\n",
       "      <td>...</td>\n",
       "      <td>250</td>\n",
       "      <td>1</td>\n",
       "      <td>0</td>\n",
       "      <td>5</td>\n",
       "      <td>8dff45ed862a740986dbe688aafee7e5</td>\n",
       "      <td>249</td>\n",
       "      <td>42</td>\n",
       "      <td>15b749127478946f161a54dc0dad27c8</td>\n",
       "      <td>3476</td>\n",
       "      <td>10063,10111</td>\n",
       "    </tr>\n",
       "    <tr>\n",
       "      <th>2</th>\n",
       "      <td>0</td>\n",
       "      <td>5</td>\n",
       "      <td>9</td>\n",
       "      <td>2912cb5947e1fad450e2473c2f61ef75</td>\n",
       "      <td>1</td>\n",
       "      <td>u_VhkyORMrD8TP3GL</td>\n",
       "      <td>windows_ie</td>\n",
       "      <td>120.196.64.*</td>\n",
       "      <td>216</td>\n",
       "      <td>217</td>\n",
       "      <td>...</td>\n",
       "      <td>280</td>\n",
       "      <td>0</td>\n",
       "      <td>1</td>\n",
       "      <td>0</td>\n",
       "      <td>77819d3e0b3467fe5c7b16d68ad923a1</td>\n",
       "      <td>300</td>\n",
       "      <td>76</td>\n",
       "      <td>bebefa5efe83beee17a3d245e7c5085b</td>\n",
       "      <td>1458</td>\n",
       "      <td>10063</td>\n",
       "    </tr>\n",
       "    <tr>\n",
       "      <th>3</th>\n",
       "      <td>0</td>\n",
       "      <td>2</td>\n",
       "      <td>20</td>\n",
       "      <td>d7b7d61d1e50e1d27d210928d28a9b61</td>\n",
       "      <td>1</td>\n",
       "      <td>u_VhkyLRqVL2a4eWL</td>\n",
       "      <td>windows_ie</td>\n",
       "      <td>219.131.122.*</td>\n",
       "      <td>216</td>\n",
       "      <td>221</td>\n",
       "      <td>...</td>\n",
       "      <td>90</td>\n",
       "      <td>0</td>\n",
       "      <td>0</td>\n",
       "      <td>162</td>\n",
       "      <td>7184c9560e68e977187e67e45a4f3198</td>\n",
       "      <td>238</td>\n",
       "      <td>182</td>\n",
       "      <td>0f951a030abdaedd733ee8d114ce2944</td>\n",
       "      <td>3427</td>\n",
       "      <td>10077,10111</td>\n",
       "    </tr>\n",
       "    <tr>\n",
       "      <th>4</th>\n",
       "      <td>0</td>\n",
       "      <td>6</td>\n",
       "      <td>9</td>\n",
       "      <td>657d317dc4045bb79c2652abbea07530</td>\n",
       "      <td>1</td>\n",
       "      <td>u_Vh1zOJuQOtTCBgL</td>\n",
       "      <td>windows_chrome</td>\n",
       "      <td>123.190.78.*</td>\n",
       "      <td>40</td>\n",
       "      <td>48</td>\n",
       "      <td>...</td>\n",
       "      <td>90</td>\n",
       "      <td>0</td>\n",
       "      <td>1</td>\n",
       "      <td>0</td>\n",
       "      <td>c938195f9e404b4f38c7e71bf50263e5</td>\n",
       "      <td>238</td>\n",
       "      <td>34</td>\n",
       "      <td>a3becb967c015e9acb5e72f22b100ef8</td>\n",
       "      <td>3476</td>\n",
       "      <td>10031,13042,10006,10057,13866,10063,14273,1005...</td>\n",
       "    </tr>\n",
       "  </tbody>\n",
       "</table>\n",
       "<p>5 rows × 26 columns</p>\n",
       "</div>"
      ],
      "text/plain": [
       "   click  weekday  hour                             bidid  logtype  \\\n",
       "0      0        1    14  fdfae6789b787899f1b875de3ab8b21a        1   \n",
       "1      0        2    20  372883147cdefbc495fb5082f79dde9b        1   \n",
       "2      0        5     9  2912cb5947e1fad450e2473c2f61ef75        1   \n",
       "3      0        2    20  d7b7d61d1e50e1d27d210928d28a9b61        1   \n",
       "4      0        6     9  657d317dc4045bb79c2652abbea07530        1   \n",
       "\n",
       "              userid       useragent             IP  region  city  \\\n",
       "0  u_Vh1OPkFv3q5CFdR      windows_ie  180.107.112.*      80    85   \n",
       "1  u_VhkRL6dCOTLsq-c  windows_chrome  125.120.199.*      94    95   \n",
       "2  u_VhkyORMrD8TP3GL      windows_ie   120.196.64.*     216   217   \n",
       "3  u_VhkyLRqVL2a4eWL      windows_ie  219.131.122.*     216   221   \n",
       "4  u_Vh1zOJuQOtTCBgL  windows_chrome   123.190.78.*      40    48   \n",
       "\n",
       "                         ...                         slotheight  \\\n",
       "0                        ...                                 60   \n",
       "1                        ...                                250   \n",
       "2                        ...                                280   \n",
       "3                        ...                                 90   \n",
       "4                        ...                                 90   \n",
       "\n",
       "  slotvisibility slotformat slotprice                          creative  \\\n",
       "0              1          0         5  612599432d200b093719dd1f372f7a30   \n",
       "1              1          0         5  8dff45ed862a740986dbe688aafee7e5   \n",
       "2              0          1         0  77819d3e0b3467fe5c7b16d68ad923a1   \n",
       "3              0          0       162  7184c9560e68e977187e67e45a4f3198   \n",
       "4              0          1         0  c938195f9e404b4f38c7e71bf50263e5   \n",
       "\n",
       "   bidprice  payprice                           keypage advertiser  \\\n",
       "0       300        54  bebefa5efe83beee17a3d245e7c5085b       1458   \n",
       "1       249        42  15b749127478946f161a54dc0dad27c8       3476   \n",
       "2       300        76  bebefa5efe83beee17a3d245e7c5085b       1458   \n",
       "3       238       182  0f951a030abdaedd733ee8d114ce2944       3427   \n",
       "4       238        34  a3becb967c015e9acb5e72f22b100ef8       3476   \n",
       "\n",
       "                                             usertag  \n",
       "0                                        13866,10063  \n",
       "1                                        10063,10111  \n",
       "2                                              10063  \n",
       "3                                        10077,10111  \n",
       "4  10031,13042,10006,10057,13866,10063,14273,1005...  \n",
       "\n",
       "[5 rows x 26 columns]"
      ]
     },
     "execution_count": 244,
     "metadata": {},
     "output_type": "execute_result"
    }
   ],
   "source": [
    "train[0:5]"
   ]
  },
  {
   "cell_type": "code",
   "execution_count": 245,
   "metadata": {
    "collapsed": true
   },
   "outputs": [],
   "source": [
    "import sqlite3\n",
    "from math import sqrt\n",
    "from sklearn.feature_extraction import DictVectorizer as DV\n",
    "from sklearn.svm import SVC\n",
    "from sklearn.ensemble import RandomForestClassifier as RF\n",
    "from sklearn.metrics import roc_auc_score as AUC\n",
    "import statsmodels.api as sm\n"
   ]
  },
  {
   "cell_type": "code",
   "execution_count": 246,
   "metadata": {
    "collapsed": false
   },
   "outputs": [],
   "source": [
    "from sklearn import preprocessing"
   ]
  },
  {
   "cell_type": "code",
   "execution_count": 247,
   "metadata": {
    "collapsed": false
   },
   "outputs": [
    {
     "data": {
      "text/html": [
       "<div>\n",
       "<table border=\"1\" class=\"dataframe\">\n",
       "  <thead>\n",
       "    <tr style=\"text-align: right;\">\n",
       "      <th></th>\n",
       "      <th>click</th>\n",
       "      <th>weekday</th>\n",
       "      <th>hour</th>\n",
       "      <th>bidid</th>\n",
       "      <th>logtype</th>\n",
       "      <th>userid</th>\n",
       "      <th>useragent</th>\n",
       "      <th>IP</th>\n",
       "      <th>region</th>\n",
       "      <th>city</th>\n",
       "      <th>...</th>\n",
       "      <th>slotvisibility</th>\n",
       "      <th>slotformat</th>\n",
       "      <th>slotprice</th>\n",
       "      <th>creative</th>\n",
       "      <th>bidprice</th>\n",
       "      <th>payprice</th>\n",
       "      <th>keypage</th>\n",
       "      <th>advertiser</th>\n",
       "      <th>usertag</th>\n",
       "      <th>area</th>\n",
       "    </tr>\n",
       "  </thead>\n",
       "  <tbody>\n",
       "    <tr>\n",
       "      <th>0</th>\n",
       "      <td>0</td>\n",
       "      <td>1</td>\n",
       "      <td>14</td>\n",
       "      <td>fdfae6789b787899f1b875de3ab8b21a</td>\n",
       "      <td>1</td>\n",
       "      <td>u_Vh1OPkFv3q5CFdR</td>\n",
       "      <td>windows_ie</td>\n",
       "      <td>180.107.112.*</td>\n",
       "      <td>80</td>\n",
       "      <td>85</td>\n",
       "      <td>...</td>\n",
       "      <td>1</td>\n",
       "      <td>0</td>\n",
       "      <td>5</td>\n",
       "      <td>612599432d200b093719dd1f372f7a30</td>\n",
       "      <td>300</td>\n",
       "      <td>54</td>\n",
       "      <td>bebefa5efe83beee17a3d245e7c5085b</td>\n",
       "      <td>1458</td>\n",
       "      <td>13866,10063</td>\n",
       "      <td>28080</td>\n",
       "    </tr>\n",
       "    <tr>\n",
       "      <th>1</th>\n",
       "      <td>0</td>\n",
       "      <td>2</td>\n",
       "      <td>20</td>\n",
       "      <td>372883147cdefbc495fb5082f79dde9b</td>\n",
       "      <td>1</td>\n",
       "      <td>u_VhkRL6dCOTLsq-c</td>\n",
       "      <td>windows_chrome</td>\n",
       "      <td>125.120.199.*</td>\n",
       "      <td>94</td>\n",
       "      <td>95</td>\n",
       "      <td>...</td>\n",
       "      <td>1</td>\n",
       "      <td>0</td>\n",
       "      <td>5</td>\n",
       "      <td>8dff45ed862a740986dbe688aafee7e5</td>\n",
       "      <td>249</td>\n",
       "      <td>42</td>\n",
       "      <td>15b749127478946f161a54dc0dad27c8</td>\n",
       "      <td>3476</td>\n",
       "      <td>10063,10111</td>\n",
       "      <td>62500</td>\n",
       "    </tr>\n",
       "    <tr>\n",
       "      <th>2</th>\n",
       "      <td>0</td>\n",
       "      <td>5</td>\n",
       "      <td>9</td>\n",
       "      <td>2912cb5947e1fad450e2473c2f61ef75</td>\n",
       "      <td>1</td>\n",
       "      <td>u_VhkyORMrD8TP3GL</td>\n",
       "      <td>windows_ie</td>\n",
       "      <td>120.196.64.*</td>\n",
       "      <td>216</td>\n",
       "      <td>217</td>\n",
       "      <td>...</td>\n",
       "      <td>0</td>\n",
       "      <td>1</td>\n",
       "      <td>0</td>\n",
       "      <td>77819d3e0b3467fe5c7b16d68ad923a1</td>\n",
       "      <td>300</td>\n",
       "      <td>76</td>\n",
       "      <td>bebefa5efe83beee17a3d245e7c5085b</td>\n",
       "      <td>1458</td>\n",
       "      <td>10063</td>\n",
       "      <td>94080</td>\n",
       "    </tr>\n",
       "    <tr>\n",
       "      <th>3</th>\n",
       "      <td>0</td>\n",
       "      <td>2</td>\n",
       "      <td>20</td>\n",
       "      <td>d7b7d61d1e50e1d27d210928d28a9b61</td>\n",
       "      <td>1</td>\n",
       "      <td>u_VhkyLRqVL2a4eWL</td>\n",
       "      <td>windows_ie</td>\n",
       "      <td>219.131.122.*</td>\n",
       "      <td>216</td>\n",
       "      <td>221</td>\n",
       "      <td>...</td>\n",
       "      <td>0</td>\n",
       "      <td>0</td>\n",
       "      <td>162</td>\n",
       "      <td>7184c9560e68e977187e67e45a4f3198</td>\n",
       "      <td>238</td>\n",
       "      <td>182</td>\n",
       "      <td>0f951a030abdaedd733ee8d114ce2944</td>\n",
       "      <td>3427</td>\n",
       "      <td>10077,10111</td>\n",
       "      <td>65520</td>\n",
       "    </tr>\n",
       "    <tr>\n",
       "      <th>4</th>\n",
       "      <td>0</td>\n",
       "      <td>6</td>\n",
       "      <td>9</td>\n",
       "      <td>657d317dc4045bb79c2652abbea07530</td>\n",
       "      <td>1</td>\n",
       "      <td>u_Vh1zOJuQOtTCBgL</td>\n",
       "      <td>windows_chrome</td>\n",
       "      <td>123.190.78.*</td>\n",
       "      <td>40</td>\n",
       "      <td>48</td>\n",
       "      <td>...</td>\n",
       "      <td>0</td>\n",
       "      <td>1</td>\n",
       "      <td>0</td>\n",
       "      <td>c938195f9e404b4f38c7e71bf50263e5</td>\n",
       "      <td>238</td>\n",
       "      <td>34</td>\n",
       "      <td>a3becb967c015e9acb5e72f22b100ef8</td>\n",
       "      <td>3476</td>\n",
       "      <td>10031,13042,10006,10057,13866,10063,14273,1005...</td>\n",
       "      <td>85500</td>\n",
       "    </tr>\n",
       "  </tbody>\n",
       "</table>\n",
       "<p>5 rows × 27 columns</p>\n",
       "</div>"
      ],
      "text/plain": [
       "   click  weekday  hour                             bidid  logtype  \\\n",
       "0      0        1    14  fdfae6789b787899f1b875de3ab8b21a        1   \n",
       "1      0        2    20  372883147cdefbc495fb5082f79dde9b        1   \n",
       "2      0        5     9  2912cb5947e1fad450e2473c2f61ef75        1   \n",
       "3      0        2    20  d7b7d61d1e50e1d27d210928d28a9b61        1   \n",
       "4      0        6     9  657d317dc4045bb79c2652abbea07530        1   \n",
       "\n",
       "              userid       useragent             IP  region  city  ...    \\\n",
       "0  u_Vh1OPkFv3q5CFdR      windows_ie  180.107.112.*      80    85  ...     \n",
       "1  u_VhkRL6dCOTLsq-c  windows_chrome  125.120.199.*      94    95  ...     \n",
       "2  u_VhkyORMrD8TP3GL      windows_ie   120.196.64.*     216   217  ...     \n",
       "3  u_VhkyLRqVL2a4eWL      windows_ie  219.131.122.*     216   221  ...     \n",
       "4  u_Vh1zOJuQOtTCBgL  windows_chrome   123.190.78.*      40    48  ...     \n",
       "\n",
       "  slotvisibility slotformat slotprice                          creative  \\\n",
       "0              1          0         5  612599432d200b093719dd1f372f7a30   \n",
       "1              1          0         5  8dff45ed862a740986dbe688aafee7e5   \n",
       "2              0          1         0  77819d3e0b3467fe5c7b16d68ad923a1   \n",
       "3              0          0       162  7184c9560e68e977187e67e45a4f3198   \n",
       "4              0          1         0  c938195f9e404b4f38c7e71bf50263e5   \n",
       "\n",
       "  bidprice  payprice                           keypage advertiser  \\\n",
       "0      300        54  bebefa5efe83beee17a3d245e7c5085b       1458   \n",
       "1      249        42  15b749127478946f161a54dc0dad27c8       3476   \n",
       "2      300        76  bebefa5efe83beee17a3d245e7c5085b       1458   \n",
       "3      238       182  0f951a030abdaedd733ee8d114ce2944       3427   \n",
       "4      238        34  a3becb967c015e9acb5e72f22b100ef8       3476   \n",
       "\n",
       "                                             usertag   area  \n",
       "0                                        13866,10063  28080  \n",
       "1                                        10063,10111  62500  \n",
       "2                                              10063  94080  \n",
       "3                                        10077,10111  65520  \n",
       "4  10031,13042,10006,10057,13866,10063,14273,1005...  85500  \n",
       "\n",
       "[5 rows x 27 columns]"
      ]
     },
     "execution_count": 247,
     "metadata": {},
     "output_type": "execute_result"
    }
   ],
   "source": [
    "train['area']=train['slotheight']*train['slotwidth']\n",
    "valid['area']=valid['slotheight']*valid['slotwidth']\n",
    "train[0:5]"
   ]
  },
  {
   "cell_type": "code",
   "execution_count": 248,
   "metadata": {
    "collapsed": false
   },
   "outputs": [],
   "source": [
    "#train_cols = data1.columns[1:]\n",
    "from sklearn import preprocessing\n",
    "import statsmodels.api as sm\n",
    "from sklearn.linear_model import LogisticRegression\n",
    "import numpy as np\n",
    "import pandas as pd\n",
    "from sklearn.ensemble import RandomForestRegressor, BaggingRegressor\n",
    "from sklearn.ensemble import RandomForestClassifier, BaggingClassifier\n",
    "from nltk.stem.snowball import SnowballStemmer\n",
    "label_encoder = preprocessing.LabelEncoder()\n",
    "train['hour']=label_encoder.fit_transform(train['hour'])\n",
    "train['weekday']=label_encoder.fit_transform(train['weekday'])\n",
    "train['advertiser']=label_encoder.fit_transform(train['advertiser'])\n",
    "train['area']=label_encoder.fit_transform(train['area'])\n",
    "train['adexchange']=label_encoder.fit_transform(train['adexchange'])\n",
    "train['slotvisibility']=label_encoder.fit_transform(train['slotvisibility'])\n",
    "train['slotformat']=label_encoder.fit_transform(train['slotformat'])\n",
    "train['slotprice']=label_encoder.fit_transform(train['slotprice'])\n",
    "#train['city']=label_encoder.fit_transform(train['city'])\n",
    "#train['region']=label_encoder.fit_transform(train['region'])\n",
    "#train['useragent']=label_encoder.fit_transform(train['useragent'])\n",
    "#lr = LogisticRegression(C=2.0,class_weight='balanced') # the method to get the optimal c of 2.0 is shown in report below\n",
    "#lr.fit(train[features], train['click'])\n",
    "#x_test=test[features]"
   ]
  },
  {
   "cell_type": "code",
   "execution_count": 249,
   "metadata": {
    "collapsed": false
   },
   "outputs": [],
   "source": [
    "#from statistics import mode\n",
    "#base_bid=mode(train['bidprice']) #300\n",
    "#base_bid"
   ]
  },
  {
   "cell_type": "code",
   "execution_count": 250,
   "metadata": {
    "collapsed": false
   },
   "outputs": [],
   "source": [
    "valid['hour']=label_encoder.fit_transform(valid['hour'])\n",
    "valid['weekday']=label_encoder.fit_transform(valid['weekday'])\n",
    "valid['advertiser']=label_encoder.fit_transform(valid['advertiser'])\n",
    "valid['area']=label_encoder.fit_transform(valid['area'])\n",
    "valid['adexchange']=label_encoder.fit_transform(valid['adexchange'])\n",
    "valid['slotvisibility']=label_encoder.fit_transform(valid['slotvisibility'])\n",
    "valid['slotformat']=label_encoder.fit_transform(valid['slotformat'])\n",
    "valid['slotprice']=label_encoder.fit_transform(valid['slotprice'])\n",
    "#valid['city']=label_encoder.fit_transform(valid['city'])\n",
    "#valid['region']=label_encoder.fit_transform(valid['region'])\n",
    "features =['weekday', 'hour','advertiser','area','adexchange','slotvisibility','slotformat','slotprice']\n",
    "#features =['weekday', 'hour','advertiser']"
   ]
  },
  {
   "cell_type": "code",
   "execution_count": 347,
   "metadata": {
    "collapsed": false
   },
   "outputs": [],
   "source": [
    "x_train=train[features]\n",
    "y_train=train['click']\n",
    "#x_test=test[features]\n",
    "x_test=valid[features]\n",
    "#rf = RandomForestRegressor(n_estimators=22, max_depth=7, random_state=0)\n",
    "rf = RandomForestClassifier(n_estimators=22, max_depth=7, random_state=0)\n",
    "clf = BaggingClassifier(rf, n_estimators=40, max_samples=0.1, random_state=20)\n",
    "#clf = BaggingRegressor(rf, n_estimators=40, max_samples=0.1, random_state=20)\n",
    "clf.fit(x_train, y_train)\n",
    "y_pred = clf.predict_proba(x_test)\n",
    "#y_pred = clf.predict(x_test)\n"
   ]
  },
  {
   "cell_type": "code",
   "execution_count": 348,
   "metadata": {
    "collapsed": false
   },
   "outputs": [],
   "source": [
    "pre_1=[]\n",
    "for a in y_pred:\n",
    "    pre_1.append(a[1])"
   ]
  },
  {
   "cell_type": "code",
   "execution_count": 349,
   "metadata": {
    "collapsed": false
   },
   "outputs": [],
   "source": [
    "\n",
    "y_pred1=valid['click']"
   ]
  },
  {
   "cell_type": "code",
   "execution_count": 350,
   "metadata": {
    "collapsed": false
   },
   "outputs": [
    {
     "data": {
      "text/plain": [
       "0.027437235729121875"
      ]
     },
     "execution_count": 350,
     "metadata": {},
     "output_type": "execute_result"
    }
   ],
   "source": [
    "from sklearn.metrics import mean_squared_error, make_scorer\n",
    "mse = mean_squared_error(y_pred1, pre_1, sample_weight=None, multioutput='uniform_average')\n",
    "np.sqrt(mse)"
   ]
  },
  {
   "cell_type": "code",
   "execution_count": 351,
   "metadata": {
    "collapsed": false
   },
   "outputs": [
    {
     "data": {
      "text/plain": [
       "0.66814263439931443"
      ]
     },
     "execution_count": 351,
     "metadata": {},
     "output_type": "execute_result"
    }
   ],
   "source": [
    "import numpy as np\n",
    "from sklearn.metrics import roc_auc_score\n",
    "auc=roc_auc_score(y_pred1, pre_1)\n",
    "auc"
   ]
  },
  {
   "cell_type": "code",
   "execution_count": 352,
   "metadata": {
    "collapsed": false
   },
   "outputs": [
    {
     "data": {
      "text/plain": [
       "0.0007539649884458758"
      ]
     },
     "execution_count": 352,
     "metadata": {},
     "output_type": "execute_result"
    }
   ],
   "source": [
    "avg_CTR=sum(train['click'])/len(train)\n",
    "avg_CTR"
   ]
  },
  {
   "cell_type": "code",
   "execution_count": 258,
   "metadata": {
    "collapsed": false
   },
   "outputs": [],
   "source": [
    "#base_bid=max(train['bidprice']) #300\n",
    "#base_bid\n",
    "#base_bid=min(train['bidprice']) #227"
   ]
  },
  {
   "cell_type": "code",
   "execution_count": 469,
   "metadata": {
    "collapsed": false
   },
   "outputs": [
    {
     "data": {
      "text/plain": [
       "70"
      ]
     },
     "execution_count": 469,
     "metadata": {},
     "output_type": "execute_result"
    }
   ],
   "source": [
    "base_bid=70 #150, avgerage bid\n",
    "base_bid"
   ]
  },
  {
   "cell_type": "code",
   "execution_count": null,
   "metadata": {
    "collapsed": false
   },
   "outputs": [],
   "source": []
  },
  {
   "cell_type": "code",
   "execution_count": 470,
   "metadata": {
    "collapsed": false
   },
   "outputs": [],
   "source": [
    "L1=valid['bidprice'].values/1000\n",
    "L2=valid['payprice'].values/1000"
   ]
  },
  {
   "cell_type": "code",
   "execution_count": 471,
   "metadata": {
    "collapsed": false
   },
   "outputs": [],
   "source": [
    "L=[]\n",
    "for i in range(0,299749):\n",
    "    bid=base_bid*(pre_1[i])/avg_CTR/1000\n",
    "    if bid>=(L2[i]):\n",
    "        L.append(L2[i])\n",
    "    else:\n",
    "        L.append(0)"
   ]
  },
  {
   "cell_type": "code",
   "execution_count": 472,
   "metadata": {
    "collapsed": false
   },
   "outputs": [],
   "source": [
    "#s=0\n",
    "#for i in range(0,299749):\n",
    "    #s=s+L[i]\n",
    "#print(s)"
   ]
  },
  {
   "cell_type": "code",
   "execution_count": 473,
   "metadata": {
    "collapsed": false
   },
   "outputs": [],
   "source": [
    "new_bid = pd.DataFrame(L,columns=['pre_bid'])"
   ]
  },
  {
   "cell_type": "code",
   "execution_count": 474,
   "metadata": {
    "collapsed": false
   },
   "outputs": [],
   "source": [
    "frames=[valid,new_bid]\n",
    "new_valid=pd.concat(frames,axis=1)"
   ]
  },
  {
   "cell_type": "code",
   "execution_count": 475,
   "metadata": {
    "collapsed": false
   },
   "outputs": [],
   "source": [
    "new_valid=new_valid[new_valid.pre_bid!=0]"
   ]
  },
  {
   "cell_type": "code",
   "execution_count": 476,
   "metadata": {
    "collapsed": false,
    "scrolled": false
   },
   "outputs": [
    {
     "name": "stdout",
     "output_type": "stream",
     "text": [
      "0.000754691324449\n",
      "111\n",
      "6318.195\n",
      "42.9575401142\n",
      "56.9206756757\n"
     ]
    }
   ],
   "source": [
    "ctr_cons= sum(new_valid.click)/len(new_valid)\n",
    "click_cons = sum(new_valid.click)\n",
    "cost=sum(new_valid[\"payprice\"])/1000\n",
    "avg_CPM = sum(new_valid.payprice)/1000/(len(new_valid.logtype)/1000)\n",
    "eCPC = sum(new_valid.payprice)/1000/sum(new_valid.click)\n",
    "print(ctr_cons)\n",
    "print(click_cons)\n",
    "print(cost)\n",
    "print(avg_CPM)\n",
    "print(eCPC)"
   ]
  },
  {
   "cell_type": "code",
   "execution_count": 477,
   "metadata": {
    "collapsed": true
   },
   "outputs": [],
   "source": [
    "cumsum_cost = np.cumsum(new_valid.payprice)\n",
    "new_valid[\"cumsum_cost\"] = cumsum_cost\n",
    "new_valid1 = new_valid.loc[(cumsum_cost < 3125000)]\n",
    "new_valid2 = new_valid.loc[(cumsum_cost < 6250000)]\n"
   ]
  },
  {
   "cell_type": "code",
   "execution_count": 478,
   "metadata": {
    "collapsed": false,
    "scrolled": true
   },
   "outputs": [
    {
     "name": "stdout",
     "output_type": "stream",
     "text": [
      "0.00086333301358\n",
      "63\n",
      "3124.972\n",
      "42.8236745098\n",
      "49.6027301587\n"
     ]
    }
   ],
   "source": [
    "ctr_cons= sum(new_valid1.click)/len(new_valid1)\n",
    "click_cons = sum(new_valid1.click)\n",
    "cost=sum(new_valid1[\"payprice\"])/1000\n",
    "avg_CPM = sum(new_valid1.payprice)/1000/(len(new_valid1.logtype)/1000)\n",
    "eCPC = sum(new_valid1.payprice)/1000/sum(new_valid1.click)\n",
    "print(ctr_cons)\n",
    "print(click_cons)\n",
    "print(cost)\n",
    "print(avg_CPM)\n",
    "print(eCPC)"
   ]
  },
  {
   "cell_type": "code",
   "execution_count": 479,
   "metadata": {
    "collapsed": false,
    "scrolled": false
   },
   "outputs": [
    {
     "name": "stdout",
     "output_type": "stream",
     "text": [
      "0.000749120299098\n",
      "109\n",
      "6249.989\n",
      "42.9540699912\n",
      "57.3393486239\n"
     ]
    }
   ],
   "source": [
    "ctr_cons= sum(new_valid2.click)/len(new_valid2)\n",
    "click_cons = sum(new_valid2.click)\n",
    "cost=sum(new_valid2[\"payprice\"])/1000\n",
    "avg_CPM = sum(new_valid2.payprice)/1000/(len(new_valid2.logtype)/1000)\n",
    "eCPC = sum(new_valid2.payprice)/1000/sum(new_valid2.click)\n",
    "print(ctr_cons)\n",
    "print(click_cons)\n",
    "print(cost)\n",
    "print(avg_CPM)\n",
    "print(eCPC)"
   ]
  },
  {
   "cell_type": "code",
   "execution_count": 480,
   "metadata": {
    "collapsed": false
   },
   "outputs": [],
   "source": [
    "#win_1 = valid.loc[(constant_price > valid[\"bidprice\"] )]"
   ]
  },
  {
   "cell_type": "code",
   "execution_count": null,
   "metadata": {
    "collapsed": false
   },
   "outputs": [],
   "source": []
  },
  {
   "cell_type": "code",
   "execution_count": null,
   "metadata": {
    "collapsed": true
   },
   "outputs": [],
   "source": []
  },
  {
   "cell_type": "code",
   "execution_count": null,
   "metadata": {
    "collapsed": true
   },
   "outputs": [],
   "source": []
  }
 ],
 "metadata": {
  "anaconda-cloud": {},
  "kernelspec": {
   "display_name": "Python [conda root]",
   "language": "python",
   "name": "conda-root-py"
  },
  "language_info": {
   "codemirror_mode": {
    "name": "ipython",
    "version": 3
   },
   "file_extension": ".py",
   "mimetype": "text/x-python",
   "name": "python",
   "nbconvert_exporter": "python",
   "pygments_lexer": "ipython3",
   "version": "3.5.2"
  }
 },
 "nbformat": 4,
 "nbformat_minor": 1
}
