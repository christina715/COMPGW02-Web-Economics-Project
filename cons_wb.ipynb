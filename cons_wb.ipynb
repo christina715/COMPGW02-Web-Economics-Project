{
 "cells": [
  {
   "cell_type": "code",
   "execution_count": 16,
   "metadata": {
    "collapsed": true
   },
   "outputs": [],
   "source": [
    "%matplotlib inline\n",
    "import json\n",
    "import pandas as pd\n",
    "import numpy as np\n",
    "import matplotlib.pyplot as plt\n",
    "import matplotlib.mlab as mlab\n",
    "from scipy import stats\n",
    "#import powerlaw \n",
    "import seaborn as sns\n",
    "\n",
    "\n",
    "train = pd.read_csv('we/dataset/train.csv')\n",
    "test = pd.read_csv('we/dataset/test.csv')\n",
    "valid = pd.read_csv('we/dataset/validation.csv')\n",
    "\n",
    "\n"
   ]
  },
  {
   "cell_type": "code",
   "execution_count": 21,
   "metadata": {
    "collapsed": false
   },
   "outputs": [
    {
     "data": {
      "text/html": [
       "<div>\n",
       "<table border=\"1\" class=\"dataframe\">\n",
       "  <thead>\n",
       "    <tr style=\"text-align: right;\">\n",
       "      <th></th>\n",
       "      <th>click</th>\n",
       "      <th>weekday</th>\n",
       "      <th>hour</th>\n",
       "      <th>bidid</th>\n",
       "      <th>logtype</th>\n",
       "      <th>userid</th>\n",
       "      <th>useragent</th>\n",
       "      <th>IP</th>\n",
       "      <th>region</th>\n",
       "      <th>city</th>\n",
       "      <th>...</th>\n",
       "      <th>slotheight</th>\n",
       "      <th>slotvisibility</th>\n",
       "      <th>slotformat</th>\n",
       "      <th>slotprice</th>\n",
       "      <th>creative</th>\n",
       "      <th>bidprice</th>\n",
       "      <th>payprice</th>\n",
       "      <th>keypage</th>\n",
       "      <th>advertiser</th>\n",
       "      <th>usertag</th>\n",
       "    </tr>\n",
       "  </thead>\n",
       "  <tbody>\n",
       "    <tr>\n",
       "      <th>0</th>\n",
       "      <td>0</td>\n",
       "      <td>1</td>\n",
       "      <td>14</td>\n",
       "      <td>fdfae6789b787899f1b875de3ab8b21a</td>\n",
       "      <td>1</td>\n",
       "      <td>u_Vh1OPkFv3q5CFdR</td>\n",
       "      <td>windows_ie</td>\n",
       "      <td>180.107.112.*</td>\n",
       "      <td>80</td>\n",
       "      <td>85</td>\n",
       "      <td>...</td>\n",
       "      <td>60</td>\n",
       "      <td>1</td>\n",
       "      <td>0</td>\n",
       "      <td>5</td>\n",
       "      <td>612599432d200b093719dd1f372f7a30</td>\n",
       "      <td>300</td>\n",
       "      <td>54</td>\n",
       "      <td>bebefa5efe83beee17a3d245e7c5085b</td>\n",
       "      <td>1458</td>\n",
       "      <td>13866,10063</td>\n",
       "    </tr>\n",
       "    <tr>\n",
       "      <th>1</th>\n",
       "      <td>0</td>\n",
       "      <td>2</td>\n",
       "      <td>20</td>\n",
       "      <td>372883147cdefbc495fb5082f79dde9b</td>\n",
       "      <td>1</td>\n",
       "      <td>u_VhkRL6dCOTLsq-c</td>\n",
       "      <td>windows_chrome</td>\n",
       "      <td>125.120.199.*</td>\n",
       "      <td>94</td>\n",
       "      <td>95</td>\n",
       "      <td>...</td>\n",
       "      <td>250</td>\n",
       "      <td>1</td>\n",
       "      <td>0</td>\n",
       "      <td>5</td>\n",
       "      <td>8dff45ed862a740986dbe688aafee7e5</td>\n",
       "      <td>249</td>\n",
       "      <td>42</td>\n",
       "      <td>15b749127478946f161a54dc0dad27c8</td>\n",
       "      <td>3476</td>\n",
       "      <td>10063,10111</td>\n",
       "    </tr>\n",
       "    <tr>\n",
       "      <th>2</th>\n",
       "      <td>0</td>\n",
       "      <td>5</td>\n",
       "      <td>9</td>\n",
       "      <td>2912cb5947e1fad450e2473c2f61ef75</td>\n",
       "      <td>1</td>\n",
       "      <td>u_VhkyORMrD8TP3GL</td>\n",
       "      <td>windows_ie</td>\n",
       "      <td>120.196.64.*</td>\n",
       "      <td>216</td>\n",
       "      <td>217</td>\n",
       "      <td>...</td>\n",
       "      <td>280</td>\n",
       "      <td>0</td>\n",
       "      <td>1</td>\n",
       "      <td>0</td>\n",
       "      <td>77819d3e0b3467fe5c7b16d68ad923a1</td>\n",
       "      <td>300</td>\n",
       "      <td>76</td>\n",
       "      <td>bebefa5efe83beee17a3d245e7c5085b</td>\n",
       "      <td>1458</td>\n",
       "      <td>10063</td>\n",
       "    </tr>\n",
       "  </tbody>\n",
       "</table>\n",
       "<p>3 rows × 26 columns</p>\n",
       "</div>"
      ],
      "text/plain": [
       "   click  weekday  hour                             bidid  logtype  \\\n",
       "0      0        1    14  fdfae6789b787899f1b875de3ab8b21a        1   \n",
       "1      0        2    20  372883147cdefbc495fb5082f79dde9b        1   \n",
       "2      0        5     9  2912cb5947e1fad450e2473c2f61ef75        1   \n",
       "\n",
       "              userid       useragent             IP  region  city  \\\n",
       "0  u_Vh1OPkFv3q5CFdR      windows_ie  180.107.112.*      80    85   \n",
       "1  u_VhkRL6dCOTLsq-c  windows_chrome  125.120.199.*      94    95   \n",
       "2  u_VhkyORMrD8TP3GL      windows_ie   120.196.64.*     216   217   \n",
       "\n",
       "      ...      slotheight slotvisibility slotformat slotprice  \\\n",
       "0     ...              60              1          0         5   \n",
       "1     ...             250              1          0         5   \n",
       "2     ...             280              0          1         0   \n",
       "\n",
       "                           creative  bidprice  payprice  \\\n",
       "0  612599432d200b093719dd1f372f7a30       300        54   \n",
       "1  8dff45ed862a740986dbe688aafee7e5       249        42   \n",
       "2  77819d3e0b3467fe5c7b16d68ad923a1       300        76   \n",
       "\n",
       "                            keypage advertiser      usertag  \n",
       "0  bebefa5efe83beee17a3d245e7c5085b       1458  13866,10063  \n",
       "1  15b749127478946f161a54dc0dad27c8       3476  10063,10111  \n",
       "2  bebefa5efe83beee17a3d245e7c5085b       1458        10063  \n",
       "\n",
       "[3 rows x 26 columns]"
      ]
     },
     "execution_count": 21,
     "metadata": {},
     "output_type": "execute_result"
    }
   ],
   "source": [
    "train[:3]"
   ]
  },
  {
   "cell_type": "code",
   "execution_count": 29,
   "metadata": {
    "collapsed": false
   },
   "outputs": [],
   "source": [
    "ad1= (train[train['advertiser'] == 2997])"
   ]
  },
  {
   "cell_type": "code",
   "execution_count": 30,
   "metadata": {
    "collapsed": false
   },
   "outputs": [
    {
     "data": {
      "text/plain": [
       "54487"
      ]
     },
     "execution_count": 30,
     "metadata": {},
     "output_type": "execute_result"
    }
   ],
   "source": [
    "len(ad1)\n",
    "#sum(ad1['click'])"
   ]
  },
  {
   "cell_type": "code",
   "execution_count": 2,
   "metadata": {
    "collapsed": false
   },
   "outputs": [],
   "source": [
    "#import numpy as np, pandas as pd\n",
    "import statistics\n",
    "from scipy.stats import mode\n",
    "\n",
    "\n",
    "mean_price=sum(train['bidprice'])/len(train)\n",
    "#constant_price\n",
    "median_price=np.median(train['bidprice'])\n",
    "#median_price\n",
    "mode_price=mode(train['bidprice'])"
   ]
  },
  {
   "cell_type": "code",
   "execution_count": 3,
   "metadata": {
    "collapsed": false
   },
   "outputs": [],
   "source": [
    "def evaluation (x):\n",
    "    ctr_cons= sum(x.click)/len(x)\n",
    "    click_cons = sum(x.click)\n",
    "    cost=sum(x[\"payprice\"])/1000\n",
    "    avg_CPM = sum(x.payprice)/1000/(len(x.logtype)/1000)\n",
    "    eCPC = sum(x.payprice)/1000/sum(x.click)\n",
    "    print(ctr_cons,click_cons,cost,avg_CPM,eCPC)"
   ]
  },
  {
   "cell_type": "code",
   "execution_count": 4,
   "metadata": {
    "collapsed": false
   },
   "outputs": [
    {
     "name": "stdout",
     "output_type": "stream",
     "text": [
      "0.000751089079165 225 23990.018 80.0828467945 106.622302222\n"
     ]
    }
   ],
   "source": [
    "win_1 = valid.loc[(300 > valid[\"payprice\"] )]\n",
    "        #valid1.drop('i')\n",
    "        #valid1['bidprice'] = \"\"\n",
    "#win(valid1[:3])\n",
    "\n",
    "#cost=sum(win_1[\"payprice\"])\n",
    "#mode_price\n",
    "evaluation(win_1)"
   ]
  },
  {
   "cell_type": "code",
   "execution_count": 5,
   "metadata": {
    "collapsed": false
   },
   "outputs": [],
   "source": [
    "cumsum_cost = np.cumsum(win_1.payprice)"
   ]
  },
  {
   "cell_type": "code",
   "execution_count": 6,
   "metadata": {
    "collapsed": false
   },
   "outputs": [
    {
     "name": "stderr",
     "output_type": "stream",
     "text": [
      "/Users/christina/anaconda/lib/python3.5/site-packages/ipykernel/__main__.py:1: SettingWithCopyWarning: \n",
      "A value is trying to be set on a copy of a slice from a DataFrame.\n",
      "Try using .loc[row_indexer,col_indexer] = value instead\n",
      "\n",
      "See the caveats in the documentation: http://pandas.pydata.org/pandas-docs/stable/indexing.html#indexing-view-versus-copy\n",
      "  if __name__ == '__main__':\n"
     ]
    }
   ],
   "source": [
    "win_1[\"cumsum_cost\"] = cumsum_cost\n",
    "\n"
   ]
  },
  {
   "cell_type": "code",
   "execution_count": 7,
   "metadata": {
    "collapsed": false
   },
   "outputs": [
    {
     "name": "stdout",
     "output_type": "stream",
     "text": [
      "0.000895289498254 70 6249.98 79.9363065471 89.2854285714\n"
     ]
    }
   ],
   "source": [
    "win_3 = win_1.loc[(cumsum_cost < 6250000 )]\n",
    "\n",
    "evaluation(win_3)"
   ]
  },
  {
   "cell_type": "code",
   "execution_count": 8,
   "metadata": {
    "collapsed": false
   },
   "outputs": [
    {
     "name": "stdout",
     "output_type": "stream",
     "text": [
      "0.00107891491985 42 3124.934 80.2747122894 74.4031904762\n"
     ]
    }
   ],
   "source": [
    "win_2 = win_1.loc[(cumsum_cost < 3125000 )]\n",
    "\n",
    "evaluation(win_2)"
   ]
  },
  {
   "cell_type": "code",
   "execution_count": 9,
   "metadata": {
    "collapsed": false
   },
   "outputs": [],
   "source": [
    "valid_len = len(valid)\n",
    "#len(win_1)\n",
    "\n",
    "valid2 = valid"
   ]
  },
  {
   "cell_type": "code",
   "execution_count": 10,
   "metadata": {
    "collapsed": false
   },
   "outputs": [
    {
     "data": {
      "text/plain": [
       "299749"
      ]
     },
     "execution_count": 10,
     "metadata": {},
     "output_type": "execute_result"
    }
   ],
   "source": [
    "import random\n",
    "\n",
    "min_price = np.min(train['bidprice'])\n",
    "#random.randint(0,99)\n",
    "\n",
    "random_price = np.random.randint(100,150,valid_len)\n",
    "len(random_price)"
   ]
  },
  {
   "cell_type": "code",
   "execution_count": 11,
   "metadata": {
    "collapsed": false
   },
   "outputs": [],
   "source": [
    "\n",
    "valid2[\"random_price\"] = random_price\n",
    "\n",
    "#lambda x: x[1:].upper()\n",
    "\n",
    "#random.randint(0,99)"
   ]
  },
  {
   "cell_type": "code",
   "execution_count": 12,
   "metadata": {
    "collapsed": true
   },
   "outputs": [],
   "source": [
    "win_rand_1 = valid2.loc[(valid2[\"random_price\"] > valid2[\"payprice\"] )]\n",
    "\n"
   ]
  },
  {
   "cell_type": "code",
   "execution_count": 13,
   "metadata": {
    "collapsed": false
   },
   "outputs": [
    {
     "name": "stdout",
     "output_type": "stream",
     "text": [
      "0.000624721478341 150 12998.794 54.1375053622 86.6586266667\n"
     ]
    }
   ],
   "source": [
    "evaluation(win_rand_1)"
   ]
  },
  {
   "cell_type": "code",
   "execution_count": 14,
   "metadata": {
    "collapsed": false
   },
   "outputs": [
    {
     "name": "stdout",
     "output_type": "stream",
     "text": [
      "0.000700189310443 81 6249.94 54.0264343075 77.1597530864\n"
     ]
    },
    {
     "name": "stderr",
     "output_type": "stream",
     "text": [
      "/Users/christina/anaconda/lib/python3.5/site-packages/ipykernel/__main__.py:3: SettingWithCopyWarning: \n",
      "A value is trying to be set on a copy of a slice from a DataFrame.\n",
      "Try using .loc[row_indexer,col_indexer] = value instead\n",
      "\n",
      "See the caveats in the documentation: http://pandas.pydata.org/pandas-docs/stable/indexing.html#indexing-view-versus-copy\n",
      "  app.launch_new_instance()\n"
     ]
    }
   ],
   "source": [
    "cumsum_cost_rand = np.cumsum(win_rand_1.payprice)\n",
    "\n",
    "win_rand_1[\"cumsum_cost\"] = cumsum_cost_rand\n",
    "\n",
    "win_rand_2 = win_rand_1.loc[(win_rand_1[\"cumsum_cost\"] < 6250000 )]\n",
    "\n",
    "evaluation(win_rand_2)"
   ]
  },
  {
   "cell_type": "code",
   "execution_count": 15,
   "metadata": {
    "collapsed": false
   },
   "outputs": [
    {
     "name": "stdout",
     "output_type": "stream",
     "text": [
      "0.000828886701549 48 3124.984 53.9637016699 65.1038333333\n"
     ]
    }
   ],
   "source": [
    "#win_rand[:3]\n",
    "\n",
    "win_rand_3 = win_rand_1.loc[(win_rand_1[\"cumsum_cost\"] < 3125000 )]\n",
    "\n",
    "evaluation(win_rand_3)"
   ]
  },
  {
   "cell_type": "code",
   "execution_count": null,
   "metadata": {
    "collapsed": true
   },
   "outputs": [],
   "source": []
  }
 ],
 "metadata": {
  "kernelspec": {
   "display_name": "Python [conda root]",
   "language": "python",
   "name": "conda-root-py"
  },
  "language_info": {
   "codemirror_mode": {
    "name": "ipython",
    "version": 3
   },
   "file_extension": ".py",
   "mimetype": "text/x-python",
   "name": "python",
   "nbconvert_exporter": "python",
   "pygments_lexer": "ipython3",
   "version": "3.5.2"
  }
 },
 "nbformat": 4,
 "nbformat_minor": 2
}
