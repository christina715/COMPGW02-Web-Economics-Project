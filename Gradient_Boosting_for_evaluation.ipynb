{
 "cells": [
  {
   "cell_type": "code",
   "execution_count": 217,
   "metadata": {
    "collapsed": true
   },
   "outputs": [],
   "source": [
    "%matplotlib inline\n",
    "import json\n",
    "import pandas as pd\n",
    "import numpy as np\n",
    "import matplotlib.pyplot as plt\n",
    "import matplotlib.mlab as mlab\n",
    "from scipy import stats\n",
    "import sqlite3\n",
    "from math import sqrt\n",
    "from sklearn.feature_extraction import DictVectorizer as DV\n",
    "import statsmodels.api as sm"
   ]
  },
  {
   "cell_type": "code",
   "execution_count": 218,
   "metadata": {
    "collapsed": false
   },
   "outputs": [],
   "source": [
    "train=pd.read_csv('train.csv')\n",
    "valid=pd.read_csv('validation.csv')"
   ]
  },
  {
   "cell_type": "code",
   "execution_count": 219,
   "metadata": {
    "collapsed": true
   },
   "outputs": [],
   "source": [
    "train[\"area\"]=train[\"slotheight\"]*train[\"slotwidth\"]\n",
    "valid[\"area\"]=valid[\"slotheight\"]*valid[\"slotwidth\"]"
   ]
  },
  {
   "cell_type": "code",
   "execution_count": 220,
   "metadata": {
    "collapsed": false
   },
   "outputs": [],
   "source": [
    "from sklearn import preprocessing\n",
    "import statsmodels.api as sm\n",
    "\n",
    "label_encoder = preprocessing.LabelEncoder()\n",
    "train['hour']=label_encoder.fit_transform(train['hour'])\n",
    "train['weekday']=label_encoder.fit_transform(train['weekday'])\n",
    "train['advertiser']=label_encoder.fit_transform(train['advertiser'])\n",
    "train['area']=label_encoder.fit_transform(train['area'])\n",
    "train['adexchange']=label_encoder.fit_transform(train['adexchange'])\n",
    "train['slotprice']=label_encoder.fit_transform(train['slotprice'])\n",
    "train['slotformat']=label_encoder.fit_transform(train['slotformat'])\n",
    "train['slotvisibility']=label_encoder.fit_transform(train['slotvisibility'])\n",
    "\n",
    "features =['weekday', 'hour','advertiser','area','adexchange','slotprice','slotformat','slotvisibility']\n",
    "\n",
    "valid['hour']=label_encoder.fit_transform(valid['hour'])\n",
    "valid['weekday']=label_encoder.fit_transform(valid['weekday'])\n",
    "valid['advertiser']=label_encoder.fit_transform(valid['advertiser'])\n",
    "valid['area']=label_encoder.fit_transform(valid['area'])\n",
    "valid['adexchange']=label_encoder.fit_transform(valid['adexchange'])\n",
    "valid['slotprice']=label_encoder.fit_transform(valid['slotprice'])\n",
    "valid['slotformat']=label_encoder.fit_transform(valid['slotformat'])\n",
    "valid['slotvisibility']=label_encoder.fit_transform(valid['slotvisibility'])"
   ]
  },
  {
   "cell_type": "code",
   "execution_count": 221,
   "metadata": {
    "collapsed": true
   },
   "outputs": [],
   "source": [
    "from sklearn import ensemble\n",
    "from sklearn.ensemble import GradientBoostingClassifier"
   ]
  },
  {
   "cell_type": "code",
   "execution_count": 150,
   "metadata": {
    "collapsed": false
   },
   "outputs": [
    {
     "data": {
      "text/plain": [
       "array([[  9.98989495e-01,   1.01050509e-03],\n",
       "       [  9.93105198e-01,   6.89480171e-03],\n",
       "       [  9.98859870e-01,   1.14012961e-03],\n",
       "       ..., \n",
       "       [  9.99476845e-01,   5.23154576e-04],\n",
       "       [  9.99757274e-01,   2.42725763e-04],\n",
       "       [  9.98756041e-01,   1.24395867e-03]])"
      ]
     },
     "execution_count": 150,
     "metadata": {},
     "output_type": "execute_result"
    }
   ],
   "source": [
    "x_train=train[features]\n",
    "y_train=train['click']\n",
    "x_test=valid[features]\n",
    "params = {'n_estimators': 250, 'max_depth': 4, 'min_samples_split': 2,\n",
    "          'learning_rate': 0.05, 'loss': 'deviance'}\n",
    "clf = ensemble.GradientBoostingClassifier(**params)\n",
    "\n",
    "clf.fit(x_train, y_train)\n",
    "\n",
    "y_pred = clf.predict_proba(x_test)\n",
    "y_pred"
   ]
  },
  {
   "cell_type": "code",
   "execution_count": 222,
   "metadata": {
    "collapsed": true
   },
   "outputs": [],
   "source": [
    "pre_1=[]\n",
    "for a in y_pred:\n",
    "    pre_1.append(a[1])"
   ]
  },
  {
   "cell_type": "code",
   "execution_count": 223,
   "metadata": {
    "collapsed": false
   },
   "outputs": [],
   "source": [
    "y_pred1=valid['click']"
   ]
  },
  {
   "cell_type": "code",
   "execution_count": 224,
   "metadata": {
    "collapsed": false
   },
   "outputs": [
    {
     "data": {
      "text/plain": [
       "0.027435186461778945"
      ]
     },
     "execution_count": 224,
     "metadata": {},
     "output_type": "execute_result"
    }
   ],
   "source": [
    "from sklearn.metrics import mean_squared_error, make_scorer\n",
    "mse = mean_squared_error(y_pred1, pre_1, sample_weight=None, multioutput='uniform_average')\n",
    "np.sqrt(mse)"
   ]
  },
  {
   "cell_type": "code",
   "execution_count": 225,
   "metadata": {
    "collapsed": false
   },
   "outputs": [
    {
     "data": {
      "text/plain": [
       "0.69404273886925638"
      ]
     },
     "execution_count": 225,
     "metadata": {},
     "output_type": "execute_result"
    }
   ],
   "source": [
    "import numpy as np\n",
    "from sklearn.metrics import roc_auc_score\n",
    "auc=roc_auc_score(y_pred1, pre_1)\n",
    "auc"
   ]
  },
  {
   "cell_type": "code",
   "execution_count": 226,
   "metadata": {
    "collapsed": false
   },
   "outputs": [
    {
     "data": {
      "text/plain": [
       "0.0007539649884458758"
      ]
     },
     "execution_count": 226,
     "metadata": {},
     "output_type": "execute_result"
    }
   ],
   "source": [
    "avg_CTR=sum(train['click'])/len(train)\n",
    "avg_CTR"
   ]
  },
  {
   "cell_type": "code",
   "execution_count": 227,
   "metadata": {
    "collapsed": false
   },
   "outputs": [],
   "source": [
    "base_bid=75"
   ]
  },
  {
   "cell_type": "code",
   "execution_count": 228,
   "metadata": {
    "collapsed": false
   },
   "outputs": [],
   "source": [
    "L1=valid['bidprice'].values/1000\n",
    "L2=valid['payprice'].values/1000"
   ]
  },
  {
   "cell_type": "code",
   "execution_count": 229,
   "metadata": {
    "collapsed": false
   },
   "outputs": [],
   "source": [
    "L=[]\n",
    "for i in range(0,299749):\n",
    "    p_bid=base_bid*(pre_1[i])/avg_CTR/1000\n",
    "    if p_bid>=(L2[i]):\n",
    "        L.append(L2[i])\n",
    "    else:\n",
    "        L.append(0)"
   ]
  },
  {
   "cell_type": "code",
   "execution_count": 231,
   "metadata": {
    "collapsed": false
   },
   "outputs": [],
   "source": [
    "new_bid = pd.DataFrame(L,columns=['pre_bid'])"
   ]
  },
  {
   "cell_type": "code",
   "execution_count": 232,
   "metadata": {
    "collapsed": false
   },
   "outputs": [],
   "source": [
    "frames=[valid,new_bid]\n",
    "new_valid=pd.concat(frames,axis=1)"
   ]
  },
  {
   "cell_type": "code",
   "execution_count": 233,
   "metadata": {
    "collapsed": false
   },
   "outputs": [],
   "source": [
    "new_valid=new_valid[new_valid.pre_bid!=0]\n"
   ]
  },
  {
   "cell_type": "code",
   "execution_count": 234,
   "metadata": {
    "collapsed": false
   },
   "outputs": [
    {
     "name": "stdout",
     "output_type": "stream",
     "text": [
      "0.000860253533922\n",
      "125\n",
      "6728.313\n",
      "46.3044402846\n",
      "53.826504\n"
     ]
    }
   ],
   "source": [
    "ctr_cons= sum(new_valid.click)/len(new_valid)\n",
    "click_cons = sum(new_valid.click)\n",
    "cost=sum(new_valid[\"payprice\"])/1000\n",
    "avg_CPM = sum(new_valid.payprice)/1000/(len(new_valid.logtype)/1000)\n",
    "eCPC = sum(new_valid.payprice)/1000/sum(new_valid.click)\n",
    "print(ctr_cons)\n",
    "print(click_cons)\n",
    "print(cost)\n",
    "print(avg_CPM)\n",
    "print(eCPC)"
   ]
  },
  {
   "cell_type": "code",
   "execution_count": 235,
   "metadata": {
    "collapsed": false
   },
   "outputs": [],
   "source": [
    "cumsum_cost = np.cumsum(new_valid.payprice)\n",
    "new_valid[\"cumsum_cost\"] = cumsum_cost\n",
    "new_valid1 = new_valid.loc[(cumsum_cost < 3125000)]\n",
    "new_valid2 = new_valid.loc[(cumsum_cost < 6250000)]\n",
    "\n"
   ]
  },
  {
   "cell_type": "code",
   "execution_count": 236,
   "metadata": {
    "collapsed": false
   },
   "outputs": [
    {
     "name": "stdout",
     "output_type": "stream",
     "text": [
      "0.000929189834958\n",
      "63\n",
      "3124.984\n",
      "46.0905296382\n",
      "49.6029206349\n"
     ]
    }
   ],
   "source": [
    "ctr_cons= sum(new_valid1.click)/len(new_valid1)\n",
    "click_cons = sum(new_valid1.click)\n",
    "cost=sum(new_valid1[\"payprice\"])/1000\n",
    "avg_CPM = sum(new_valid1.payprice)/1000/(len(new_valid1.logtype)/1000)\n",
    "eCPC = sum(new_valid1.payprice)/1000/sum(new_valid1.click)\n",
    "print(ctr_cons)\n",
    "print(click_cons)\n",
    "print(cost)\n",
    "print(avg_CPM)\n",
    "print(eCPC)"
   ]
  },
  {
   "cell_type": "code",
   "execution_count": 237,
   "metadata": {
    "collapsed": false
   },
   "outputs": [
    {
     "name": "stdout",
     "output_type": "stream",
     "text": [
      "0.000843457287027\n",
      "114\n",
      "6249.996\n",
      "46.2421462289\n",
      "54.8245263158\n"
     ]
    }
   ],
   "source": [
    "ctr_cons= sum(new_valid2.click)/len(new_valid2)\n",
    "click_cons = sum(new_valid2.click)\n",
    "cost=sum(new_valid2[\"payprice\"])/1000\n",
    "avg_CPM = sum(new_valid2.payprice)/1000/(len(new_valid2.logtype)/1000)\n",
    "eCPC = sum(new_valid2.payprice)/1000/sum(new_valid2.click)\n",
    "print(ctr_cons)\n",
    "print(click_cons)\n",
    "print(cost)\n",
    "print(avg_CPM)\n",
    "print(eCPC)"
   ]
  }
 ],
 "metadata": {
  "anaconda-cloud": {},
  "kernelspec": {
   "display_name": "Python 3",
   "language": "python",
   "name": "python3"
  },
  "language_info": {
   "codemirror_mode": {
    "name": "ipython",
    "version": 3
   },
   "file_extension": ".py",
   "mimetype": "text/x-python",
   "name": "python",
   "nbconvert_exporter": "python",
   "pygments_lexer": "ipython3",
   "version": "3.6.0"
  }
 },
 "nbformat": 4,
 "nbformat_minor": 1
}
