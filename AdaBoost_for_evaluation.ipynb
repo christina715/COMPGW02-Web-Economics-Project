{
 "cells": [
  {
   "cell_type": "code",
   "execution_count": 1,
   "metadata": {
    "collapsed": false
   },
   "outputs": [],
   "source": [
    "%matplotlib inline\n",
    "import json\n",
    "import pandas as pd\n",
    "import numpy as np\n",
    "import matplotlib.pyplot as plt\n",
    "import matplotlib.mlab as mlab\n",
    "from scipy import stats\n",
    "#import powerlaw \n",
    "import seaborn as sns\n",
    "\n",
    "\n",
    "train = pd.read_csv('we/dataset/train.csv')\n",
    "test = pd.read_csv('we/dataset/test.csv')\n",
    "valid = pd.read_csv('we/dataset/validation.csv')\n",
    "\n"
   ]
  },
  {
   "cell_type": "code",
   "execution_count": 3,
   "metadata": {
    "collapsed": false
   },
   "outputs": [
    {
     "data": {
      "text/html": [
       "<div>\n",
       "<table border=\"1\" class=\"dataframe\">\n",
       "  <thead>\n",
       "    <tr style=\"text-align: right;\">\n",
       "      <th></th>\n",
       "      <th>click</th>\n",
       "      <th>weekday</th>\n",
       "      <th>hour</th>\n",
       "      <th>bidid</th>\n",
       "      <th>logtype</th>\n",
       "      <th>userid</th>\n",
       "      <th>useragent</th>\n",
       "      <th>IP</th>\n",
       "      <th>region</th>\n",
       "      <th>city</th>\n",
       "      <th>...</th>\n",
       "      <th>slotheight</th>\n",
       "      <th>slotvisibility</th>\n",
       "      <th>slotformat</th>\n",
       "      <th>slotprice</th>\n",
       "      <th>creative</th>\n",
       "      <th>bidprice</th>\n",
       "      <th>payprice</th>\n",
       "      <th>keypage</th>\n",
       "      <th>advertiser</th>\n",
       "      <th>usertag</th>\n",
       "    </tr>\n",
       "  </thead>\n",
       "  <tbody>\n",
       "    <tr>\n",
       "      <th>0</th>\n",
       "      <td>0</td>\n",
       "      <td>1</td>\n",
       "      <td>14</td>\n",
       "      <td>fdfae6789b787899f1b875de3ab8b21a</td>\n",
       "      <td>1</td>\n",
       "      <td>u_Vh1OPkFv3q5CFdR</td>\n",
       "      <td>windows_ie</td>\n",
       "      <td>180.107.112.*</td>\n",
       "      <td>80</td>\n",
       "      <td>85</td>\n",
       "      <td>...</td>\n",
       "      <td>60</td>\n",
       "      <td>1</td>\n",
       "      <td>0</td>\n",
       "      <td>5</td>\n",
       "      <td>612599432d200b093719dd1f372f7a30</td>\n",
       "      <td>300</td>\n",
       "      <td>54</td>\n",
       "      <td>bebefa5efe83beee17a3d245e7c5085b</td>\n",
       "      <td>1458</td>\n",
       "      <td>13866,10063</td>\n",
       "    </tr>\n",
       "    <tr>\n",
       "      <th>1</th>\n",
       "      <td>0</td>\n",
       "      <td>2</td>\n",
       "      <td>20</td>\n",
       "      <td>372883147cdefbc495fb5082f79dde9b</td>\n",
       "      <td>1</td>\n",
       "      <td>u_VhkRL6dCOTLsq-c</td>\n",
       "      <td>windows_chrome</td>\n",
       "      <td>125.120.199.*</td>\n",
       "      <td>94</td>\n",
       "      <td>95</td>\n",
       "      <td>...</td>\n",
       "      <td>250</td>\n",
       "      <td>1</td>\n",
       "      <td>0</td>\n",
       "      <td>5</td>\n",
       "      <td>8dff45ed862a740986dbe688aafee7e5</td>\n",
       "      <td>249</td>\n",
       "      <td>42</td>\n",
       "      <td>15b749127478946f161a54dc0dad27c8</td>\n",
       "      <td>3476</td>\n",
       "      <td>10063,10111</td>\n",
       "    </tr>\n",
       "    <tr>\n",
       "      <th>2</th>\n",
       "      <td>0</td>\n",
       "      <td>5</td>\n",
       "      <td>9</td>\n",
       "      <td>2912cb5947e1fad450e2473c2f61ef75</td>\n",
       "      <td>1</td>\n",
       "      <td>u_VhkyORMrD8TP3GL</td>\n",
       "      <td>windows_ie</td>\n",
       "      <td>120.196.64.*</td>\n",
       "      <td>216</td>\n",
       "      <td>217</td>\n",
       "      <td>...</td>\n",
       "      <td>280</td>\n",
       "      <td>0</td>\n",
       "      <td>1</td>\n",
       "      <td>0</td>\n",
       "      <td>77819d3e0b3467fe5c7b16d68ad923a1</td>\n",
       "      <td>300</td>\n",
       "      <td>76</td>\n",
       "      <td>bebefa5efe83beee17a3d245e7c5085b</td>\n",
       "      <td>1458</td>\n",
       "      <td>10063</td>\n",
       "    </tr>\n",
       "    <tr>\n",
       "      <th>3</th>\n",
       "      <td>0</td>\n",
       "      <td>2</td>\n",
       "      <td>20</td>\n",
       "      <td>d7b7d61d1e50e1d27d210928d28a9b61</td>\n",
       "      <td>1</td>\n",
       "      <td>u_VhkyLRqVL2a4eWL</td>\n",
       "      <td>windows_ie</td>\n",
       "      <td>219.131.122.*</td>\n",
       "      <td>216</td>\n",
       "      <td>221</td>\n",
       "      <td>...</td>\n",
       "      <td>90</td>\n",
       "      <td>0</td>\n",
       "      <td>0</td>\n",
       "      <td>162</td>\n",
       "      <td>7184c9560e68e977187e67e45a4f3198</td>\n",
       "      <td>238</td>\n",
       "      <td>182</td>\n",
       "      <td>0f951a030abdaedd733ee8d114ce2944</td>\n",
       "      <td>3427</td>\n",
       "      <td>10077,10111</td>\n",
       "    </tr>\n",
       "    <tr>\n",
       "      <th>4</th>\n",
       "      <td>0</td>\n",
       "      <td>6</td>\n",
       "      <td>9</td>\n",
       "      <td>657d317dc4045bb79c2652abbea07530</td>\n",
       "      <td>1</td>\n",
       "      <td>u_Vh1zOJuQOtTCBgL</td>\n",
       "      <td>windows_chrome</td>\n",
       "      <td>123.190.78.*</td>\n",
       "      <td>40</td>\n",
       "      <td>48</td>\n",
       "      <td>...</td>\n",
       "      <td>90</td>\n",
       "      <td>0</td>\n",
       "      <td>1</td>\n",
       "      <td>0</td>\n",
       "      <td>c938195f9e404b4f38c7e71bf50263e5</td>\n",
       "      <td>238</td>\n",
       "      <td>34</td>\n",
       "      <td>a3becb967c015e9acb5e72f22b100ef8</td>\n",
       "      <td>3476</td>\n",
       "      <td>10031,13042,10006,10057,13866,10063,14273,1005...</td>\n",
       "    </tr>\n",
       "  </tbody>\n",
       "</table>\n",
       "<p>5 rows × 26 columns</p>\n",
       "</div>"
      ],
      "text/plain": [
       "   click  weekday  hour                             bidid  logtype  \\\n",
       "0      0        1    14  fdfae6789b787899f1b875de3ab8b21a        1   \n",
       "1      0        2    20  372883147cdefbc495fb5082f79dde9b        1   \n",
       "2      0        5     9  2912cb5947e1fad450e2473c2f61ef75        1   \n",
       "3      0        2    20  d7b7d61d1e50e1d27d210928d28a9b61        1   \n",
       "4      0        6     9  657d317dc4045bb79c2652abbea07530        1   \n",
       "\n",
       "              userid       useragent             IP  region  city  \\\n",
       "0  u_Vh1OPkFv3q5CFdR      windows_ie  180.107.112.*      80    85   \n",
       "1  u_VhkRL6dCOTLsq-c  windows_chrome  125.120.199.*      94    95   \n",
       "2  u_VhkyORMrD8TP3GL      windows_ie   120.196.64.*     216   217   \n",
       "3  u_VhkyLRqVL2a4eWL      windows_ie  219.131.122.*     216   221   \n",
       "4  u_Vh1zOJuQOtTCBgL  windows_chrome   123.190.78.*      40    48   \n",
       "\n",
       "                         ...                         slotheight  \\\n",
       "0                        ...                                 60   \n",
       "1                        ...                                250   \n",
       "2                        ...                                280   \n",
       "3                        ...                                 90   \n",
       "4                        ...                                 90   \n",
       "\n",
       "  slotvisibility slotformat slotprice                          creative  \\\n",
       "0              1          0         5  612599432d200b093719dd1f372f7a30   \n",
       "1              1          0         5  8dff45ed862a740986dbe688aafee7e5   \n",
       "2              0          1         0  77819d3e0b3467fe5c7b16d68ad923a1   \n",
       "3              0          0       162  7184c9560e68e977187e67e45a4f3198   \n",
       "4              0          1         0  c938195f9e404b4f38c7e71bf50263e5   \n",
       "\n",
       "   bidprice  payprice                           keypage advertiser  \\\n",
       "0       300        54  bebefa5efe83beee17a3d245e7c5085b       1458   \n",
       "1       249        42  15b749127478946f161a54dc0dad27c8       3476   \n",
       "2       300        76  bebefa5efe83beee17a3d245e7c5085b       1458   \n",
       "3       238       182  0f951a030abdaedd733ee8d114ce2944       3427   \n",
       "4       238        34  a3becb967c015e9acb5e72f22b100ef8       3476   \n",
       "\n",
       "                                             usertag  \n",
       "0                                        13866,10063  \n",
       "1                                        10063,10111  \n",
       "2                                              10063  \n",
       "3                                        10077,10111  \n",
       "4  10031,13042,10006,10057,13866,10063,14273,1005...  \n",
       "\n",
       "[5 rows x 26 columns]"
      ]
     },
     "execution_count": 3,
     "metadata": {},
     "output_type": "execute_result"
    }
   ],
   "source": [
    "train[0:5]"
   ]
  },
  {
   "cell_type": "code",
   "execution_count": 2,
   "metadata": {
    "collapsed": true
   },
   "outputs": [],
   "source": [
    "import sqlite3\n",
    "from math import sqrt\n",
    "from sklearn.feature_extraction import DictVectorizer as DV\n",
    "from sklearn.svm import SVC\n",
    "from sklearn.ensemble import RandomForestClassifier as RF\n",
    "from sklearn.metrics import roc_auc_score as AUC\n",
    "import statsmodels.api as sm\n"
   ]
  },
  {
   "cell_type": "code",
   "execution_count": 3,
   "metadata": {
    "collapsed": false
   },
   "outputs": [],
   "source": [
    "from sklearn import preprocessing"
   ]
  },
  {
   "cell_type": "code",
   "execution_count": 4,
   "metadata": {
    "collapsed": false
   },
   "outputs": [
    {
     "data": {
      "text/html": [
       "<div>\n",
       "<table border=\"1\" class=\"dataframe\">\n",
       "  <thead>\n",
       "    <tr style=\"text-align: right;\">\n",
       "      <th></th>\n",
       "      <th>click</th>\n",
       "      <th>weekday</th>\n",
       "      <th>hour</th>\n",
       "      <th>bidid</th>\n",
       "      <th>logtype</th>\n",
       "      <th>userid</th>\n",
       "      <th>useragent</th>\n",
       "      <th>IP</th>\n",
       "      <th>region</th>\n",
       "      <th>city</th>\n",
       "      <th>...</th>\n",
       "      <th>slotvisibility</th>\n",
       "      <th>slotformat</th>\n",
       "      <th>slotprice</th>\n",
       "      <th>creative</th>\n",
       "      <th>bidprice</th>\n",
       "      <th>payprice</th>\n",
       "      <th>keypage</th>\n",
       "      <th>advertiser</th>\n",
       "      <th>usertag</th>\n",
       "      <th>area</th>\n",
       "    </tr>\n",
       "  </thead>\n",
       "  <tbody>\n",
       "    <tr>\n",
       "      <th>0</th>\n",
       "      <td>0</td>\n",
       "      <td>1</td>\n",
       "      <td>14</td>\n",
       "      <td>fdfae6789b787899f1b875de3ab8b21a</td>\n",
       "      <td>1</td>\n",
       "      <td>u_Vh1OPkFv3q5CFdR</td>\n",
       "      <td>windows_ie</td>\n",
       "      <td>180.107.112.*</td>\n",
       "      <td>80</td>\n",
       "      <td>85</td>\n",
       "      <td>...</td>\n",
       "      <td>1</td>\n",
       "      <td>0</td>\n",
       "      <td>5</td>\n",
       "      <td>612599432d200b093719dd1f372f7a30</td>\n",
       "      <td>300</td>\n",
       "      <td>54</td>\n",
       "      <td>bebefa5efe83beee17a3d245e7c5085b</td>\n",
       "      <td>1458</td>\n",
       "      <td>13866,10063</td>\n",
       "      <td>28080</td>\n",
       "    </tr>\n",
       "    <tr>\n",
       "      <th>1</th>\n",
       "      <td>0</td>\n",
       "      <td>2</td>\n",
       "      <td>20</td>\n",
       "      <td>372883147cdefbc495fb5082f79dde9b</td>\n",
       "      <td>1</td>\n",
       "      <td>u_VhkRL6dCOTLsq-c</td>\n",
       "      <td>windows_chrome</td>\n",
       "      <td>125.120.199.*</td>\n",
       "      <td>94</td>\n",
       "      <td>95</td>\n",
       "      <td>...</td>\n",
       "      <td>1</td>\n",
       "      <td>0</td>\n",
       "      <td>5</td>\n",
       "      <td>8dff45ed862a740986dbe688aafee7e5</td>\n",
       "      <td>249</td>\n",
       "      <td>42</td>\n",
       "      <td>15b749127478946f161a54dc0dad27c8</td>\n",
       "      <td>3476</td>\n",
       "      <td>10063,10111</td>\n",
       "      <td>62500</td>\n",
       "    </tr>\n",
       "    <tr>\n",
       "      <th>2</th>\n",
       "      <td>0</td>\n",
       "      <td>5</td>\n",
       "      <td>9</td>\n",
       "      <td>2912cb5947e1fad450e2473c2f61ef75</td>\n",
       "      <td>1</td>\n",
       "      <td>u_VhkyORMrD8TP3GL</td>\n",
       "      <td>windows_ie</td>\n",
       "      <td>120.196.64.*</td>\n",
       "      <td>216</td>\n",
       "      <td>217</td>\n",
       "      <td>...</td>\n",
       "      <td>0</td>\n",
       "      <td>1</td>\n",
       "      <td>0</td>\n",
       "      <td>77819d3e0b3467fe5c7b16d68ad923a1</td>\n",
       "      <td>300</td>\n",
       "      <td>76</td>\n",
       "      <td>bebefa5efe83beee17a3d245e7c5085b</td>\n",
       "      <td>1458</td>\n",
       "      <td>10063</td>\n",
       "      <td>94080</td>\n",
       "    </tr>\n",
       "    <tr>\n",
       "      <th>3</th>\n",
       "      <td>0</td>\n",
       "      <td>2</td>\n",
       "      <td>20</td>\n",
       "      <td>d7b7d61d1e50e1d27d210928d28a9b61</td>\n",
       "      <td>1</td>\n",
       "      <td>u_VhkyLRqVL2a4eWL</td>\n",
       "      <td>windows_ie</td>\n",
       "      <td>219.131.122.*</td>\n",
       "      <td>216</td>\n",
       "      <td>221</td>\n",
       "      <td>...</td>\n",
       "      <td>0</td>\n",
       "      <td>0</td>\n",
       "      <td>162</td>\n",
       "      <td>7184c9560e68e977187e67e45a4f3198</td>\n",
       "      <td>238</td>\n",
       "      <td>182</td>\n",
       "      <td>0f951a030abdaedd733ee8d114ce2944</td>\n",
       "      <td>3427</td>\n",
       "      <td>10077,10111</td>\n",
       "      <td>65520</td>\n",
       "    </tr>\n",
       "    <tr>\n",
       "      <th>4</th>\n",
       "      <td>0</td>\n",
       "      <td>6</td>\n",
       "      <td>9</td>\n",
       "      <td>657d317dc4045bb79c2652abbea07530</td>\n",
       "      <td>1</td>\n",
       "      <td>u_Vh1zOJuQOtTCBgL</td>\n",
       "      <td>windows_chrome</td>\n",
       "      <td>123.190.78.*</td>\n",
       "      <td>40</td>\n",
       "      <td>48</td>\n",
       "      <td>...</td>\n",
       "      <td>0</td>\n",
       "      <td>1</td>\n",
       "      <td>0</td>\n",
       "      <td>c938195f9e404b4f38c7e71bf50263e5</td>\n",
       "      <td>238</td>\n",
       "      <td>34</td>\n",
       "      <td>a3becb967c015e9acb5e72f22b100ef8</td>\n",
       "      <td>3476</td>\n",
       "      <td>10031,13042,10006,10057,13866,10063,14273,1005...</td>\n",
       "      <td>85500</td>\n",
       "    </tr>\n",
       "  </tbody>\n",
       "</table>\n",
       "<p>5 rows × 27 columns</p>\n",
       "</div>"
      ],
      "text/plain": [
       "   click  weekday  hour                             bidid  logtype  \\\n",
       "0      0        1    14  fdfae6789b787899f1b875de3ab8b21a        1   \n",
       "1      0        2    20  372883147cdefbc495fb5082f79dde9b        1   \n",
       "2      0        5     9  2912cb5947e1fad450e2473c2f61ef75        1   \n",
       "3      0        2    20  d7b7d61d1e50e1d27d210928d28a9b61        1   \n",
       "4      0        6     9  657d317dc4045bb79c2652abbea07530        1   \n",
       "\n",
       "              userid       useragent             IP  region  city  ...    \\\n",
       "0  u_Vh1OPkFv3q5CFdR      windows_ie  180.107.112.*      80    85  ...     \n",
       "1  u_VhkRL6dCOTLsq-c  windows_chrome  125.120.199.*      94    95  ...     \n",
       "2  u_VhkyORMrD8TP3GL      windows_ie   120.196.64.*     216   217  ...     \n",
       "3  u_VhkyLRqVL2a4eWL      windows_ie  219.131.122.*     216   221  ...     \n",
       "4  u_Vh1zOJuQOtTCBgL  windows_chrome   123.190.78.*      40    48  ...     \n",
       "\n",
       "  slotvisibility slotformat slotprice                          creative  \\\n",
       "0              1          0         5  612599432d200b093719dd1f372f7a30   \n",
       "1              1          0         5  8dff45ed862a740986dbe688aafee7e5   \n",
       "2              0          1         0  77819d3e0b3467fe5c7b16d68ad923a1   \n",
       "3              0          0       162  7184c9560e68e977187e67e45a4f3198   \n",
       "4              0          1         0  c938195f9e404b4f38c7e71bf50263e5   \n",
       "\n",
       "  bidprice  payprice                           keypage advertiser  \\\n",
       "0      300        54  bebefa5efe83beee17a3d245e7c5085b       1458   \n",
       "1      249        42  15b749127478946f161a54dc0dad27c8       3476   \n",
       "2      300        76  bebefa5efe83beee17a3d245e7c5085b       1458   \n",
       "3      238       182  0f951a030abdaedd733ee8d114ce2944       3427   \n",
       "4      238        34  a3becb967c015e9acb5e72f22b100ef8       3476   \n",
       "\n",
       "                                             usertag   area  \n",
       "0                                        13866,10063  28080  \n",
       "1                                        10063,10111  62500  \n",
       "2                                              10063  94080  \n",
       "3                                        10077,10111  65520  \n",
       "4  10031,13042,10006,10057,13866,10063,14273,1005...  85500  \n",
       "\n",
       "[5 rows x 27 columns]"
      ]
     },
     "execution_count": 4,
     "metadata": {},
     "output_type": "execute_result"
    }
   ],
   "source": [
    "train['area']=train['slotheight']*train['slotwidth']\n",
    "valid['area']=valid['slotheight']*valid['slotwidth']\n",
    "train[0:5]"
   ]
  },
  {
   "cell_type": "code",
   "execution_count": 5,
   "metadata": {
    "collapsed": false
   },
   "outputs": [],
   "source": [
    "#train_cols = data1.columns[1:]\n",
    "from sklearn import preprocessing\n",
    "import statsmodels.api as sm\n",
    "from sklearn.linear_model import LogisticRegression\n",
    "import numpy as np\n",
    "import pandas as pd\n",
    "#from sklearn.ensemble import RandomForestRegressor, BaggingRegressor\n",
    "#from sklearn.ensemble import RandomForestClassifier, BaggingClassifier\n",
    "#from nltk.stem.snowball import SnowballStemmer\n",
    "label_encoder = preprocessing.LabelEncoder()\n",
    "train['hour']=label_encoder.fit_transform(train['hour'])\n",
    "train['weekday']=label_encoder.fit_transform(train['weekday'])\n",
    "train['advertiser']=label_encoder.fit_transform(train['advertiser'])\n",
    "train['area']=label_encoder.fit_transform(train['area'])\n",
    "train['adexchange']=label_encoder.fit_transform(train['adexchange'])\n",
    "train['slotvisibility']=label_encoder.fit_transform(train['slotvisibility'])\n",
    "train['slotformat']=label_encoder.fit_transform(train['slotformat'])\n",
    "train['slotprice']=label_encoder.fit_transform(train['slotprice'])\n",
    "#train['city']=label_encoder.fit_transform(train['city'])\n",
    "#train['region']=label_encoder.fit_transform(train['region'])\n",
    "#train['useragent']=label_encoder.fit_transform(train['useragent'])\n",
    "#lr = LogisticRegression(C=2.0,class_weight='balanced') # the method to get the optimal c of 2.0 is shown in report below\n",
    "#lr.fit(train[features], train['click'])\n",
    "#x_test=test[features]"
   ]
  },
  {
   "cell_type": "code",
   "execution_count": 6,
   "metadata": {
    "collapsed": false
   },
   "outputs": [],
   "source": [
    "from statistics import mode\n",
    "#base_bid=mode(train['bidprice']) #300\n",
    "#base_bid"
   ]
  },
  {
   "cell_type": "code",
   "execution_count": 8,
   "metadata": {
    "collapsed": false
   },
   "outputs": [],
   "source": [
    "valid['hour']=label_encoder.fit_transform(valid['hour'])\n",
    "valid['weekday']=label_encoder.fit_transform(valid['weekday'])\n",
    "valid['advertiser']=label_encoder.fit_transform(valid['advertiser'])\n",
    "valid['area']=label_encoder.fit_transform(valid['area'])\n",
    "valid['adexchange']=label_encoder.fit_transform(valid['adexchange'])\n",
    "valid['slotvisibility']=label_encoder.fit_transform(valid['slotvisibility'])\n",
    "valid['slotformat']=label_encoder.fit_transform(valid['slotformat'])\n",
    "valid['slotprice']=label_encoder.fit_transform(valid['slotprice'])\n",
    "#valid['city']=label_encoder.fit_transform(valid['city'])\n",
    "#valid['region']=label_encoder.fit_transform(valid['region'])\n",
    "features =['weekday', 'hour','advertiser','area','adexchange','slotvisibility','slotformat','slotprice']\n",
    "#features =['weekday', 'hour','advertiser']"
   ]
  },
  {
   "cell_type": "code",
   "execution_count": 105,
   "metadata": {
    "collapsed": false
   },
   "outputs": [
    {
     "data": {
      "text/plain": [
       "array([ 0.00159854,  0.01382228,  0.00160048, ...,  0.0009309 ,\n",
       "        0.00085985,  0.0015974 ])"
      ]
     },
     "execution_count": 105,
     "metadata": {},
     "output_type": "execute_result"
    }
   ],
   "source": [
    "from sklearn.ensemble import AdaBoostClassifier\n",
    "from sklearn.ensemble import AdaBoostClassifier\n",
    "from sklearn import tree\n",
    "from sklearn.ensemble import AdaBoostRegressor\n",
    "\n",
    "x_train=train[features]\n",
    "y_train=train['click']\n",
    "#x_test=test[features]\n",
    "x_test=valid[features]\n",
    "#rf = RandomForestRegressor(n_estimators=15, max_depth=6, random_state=0)\n",
    "#ab = AdaBoostClassifier(tree.DecisionTreeClassifier(max_depth=2),algorithm=\"SAMME\",n_estimators=200,learning_rate=0.05)\n",
    "#ab=AdaBoostClassifier(base_estimator=None, n_estimators=60, learning_rate=0.1, algorithm='SAMME.R', random_state=None)\n",
    "ab= AdaBoostRegressor(base_estimator=None, n_estimators=250, learning_rate=0.001, loss='linear', random_state=None)\n",
    "\n",
    "ab.fit(x_train, y_train)\n",
    "#y_pred = ab.predict_proba(x_test)\n",
    "y_pred = ab.predict(x_test)\n",
    "\n",
    "\n",
    "y_pred"
   ]
  },
  {
   "cell_type": "code",
   "execution_count": 100,
   "metadata": {
    "collapsed": false
   },
   "outputs": [],
   "source": [
    "#y_pred = ab.predict_proba(x_test)\n",
    "\n"
   ]
  },
  {
   "cell_type": "code",
   "execution_count": 101,
   "metadata": {
    "collapsed": false
   },
   "outputs": [
    {
     "data": {
      "text/plain": [
       "'\\npre_1=[]\\nfor a in y_pred:\\n    pre_1.append(a[1])\\n'"
      ]
     },
     "execution_count": 101,
     "metadata": {},
     "output_type": "execute_result"
    }
   ],
   "source": [
    "'''\n",
    "pre_1=[]\n",
    "for a in y_pred:\n",
    "    pre_1.append(a[1])\n",
    "'''"
   ]
  },
  {
   "cell_type": "code",
   "execution_count": 106,
   "metadata": {
    "collapsed": false
   },
   "outputs": [],
   "source": [
    "\n",
    "y_pred1=valid['click']"
   ]
  },
  {
   "cell_type": "code",
   "execution_count": 107,
   "metadata": {
    "collapsed": false
   },
   "outputs": [
    {
     "data": {
      "text/plain": [
       "0.027458230496229027"
      ]
     },
     "execution_count": 107,
     "metadata": {},
     "output_type": "execute_result"
    }
   ],
   "source": [
    "from sklearn.metrics import mean_squared_error, make_scorer\n",
    "mse = mean_squared_error(y_pred1, y_pred, sample_weight=None, multioutput='uniform_average')\n",
    "np.sqrt(mse)"
   ]
  },
  {
   "cell_type": "code",
   "execution_count": 108,
   "metadata": {
    "collapsed": false
   },
   "outputs": [
    {
     "data": {
      "text/plain": [
       "0.62697898360458026"
      ]
     },
     "execution_count": 108,
     "metadata": {},
     "output_type": "execute_result"
    }
   ],
   "source": [
    "import numpy as np\n",
    "from sklearn.metrics import roc_auc_score\n",
    "auc=roc_auc_score(y_pred1, y_pred)\n",
    "auc"
   ]
  },
  {
   "cell_type": "code",
   "execution_count": 109,
   "metadata": {
    "collapsed": false
   },
   "outputs": [
    {
     "data": {
      "text/plain": [
       "0.0007539649884458758"
      ]
     },
     "execution_count": 109,
     "metadata": {},
     "output_type": "execute_result"
    }
   ],
   "source": [
    "avg_CTR=sum(train['click'])/len(train)\n",
    "avg_CTR"
   ]
  },
  {
   "cell_type": "code",
   "execution_count": 110,
   "metadata": {
    "collapsed": false
   },
   "outputs": [],
   "source": [
    "#base_bid=max(train['bidprice']) #300\n",
    "#base_bid\n",
    "#base_bid=min(train['bidprice']) #227"
   ]
  },
  {
   "cell_type": "code",
   "execution_count": 291,
   "metadata": {
    "collapsed": false
   },
   "outputs": [],
   "source": [
    "#base_bid=np.mean(train['bidprice'])\n",
    "#base_bid = 250"
   ]
  },
  {
   "cell_type": "code",
   "execution_count": 278,
   "metadata": {
    "collapsed": false
   },
   "outputs": [],
   "source": [
    "L1=valid['bidprice'].values/1000\n",
    "L2=valid['payprice'].values/1000"
   ]
  },
  {
   "cell_type": "code",
   "execution_count": 287,
   "metadata": {
    "collapsed": false
   },
   "outputs": [],
   "source": [
    "L=[]\n",
    "for i in range(0,299749):\n",
    "    bid=base_bid*(y_pred[i])/avg_CTR/1000\n",
    "    if bid>=(L2[i]):\n",
    "        L.append(L2[i])\n",
    "    else:\n",
    "        L.append(0)"
   ]
  },
  {
   "cell_type": "code",
   "execution_count": null,
   "metadata": {
    "collapsed": false
   },
   "outputs": [],
   "source": []
  },
  {
   "cell_type": "code",
   "execution_count": 289,
   "metadata": {
    "collapsed": false
   },
   "outputs": [],
   "source": [
    "new_bid = pd.DataFrame(L,columns=['pre_bid'])"
   ]
  },
  {
   "cell_type": "code",
   "execution_count": 292,
   "metadata": {
    "collapsed": false
   },
   "outputs": [
    {
     "data": {
      "text/html": [
       "<div>\n",
       "<table border=\"1\" class=\"dataframe\">\n",
       "  <thead>\n",
       "    <tr style=\"text-align: right;\">\n",
       "      <th></th>\n",
       "      <th>pre_bid</th>\n",
       "    </tr>\n",
       "  </thead>\n",
       "  <tbody>\n",
       "    <tr>\n",
       "      <th>0</th>\n",
       "      <td>0.102</td>\n",
       "    </tr>\n",
       "    <tr>\n",
       "      <th>1</th>\n",
       "      <td>0.118</td>\n",
       "    </tr>\n",
       "    <tr>\n",
       "      <th>2</th>\n",
       "      <td>0.077</td>\n",
       "    </tr>\n",
       "    <tr>\n",
       "      <th>3</th>\n",
       "      <td>0.077</td>\n",
       "    </tr>\n",
       "    <tr>\n",
       "      <th>4</th>\n",
       "      <td>0.178</td>\n",
       "    </tr>\n",
       "    <tr>\n",
       "      <th>5</th>\n",
       "      <td>0.049</td>\n",
       "    </tr>\n",
       "    <tr>\n",
       "      <th>6</th>\n",
       "      <td>0.052</td>\n",
       "    </tr>\n",
       "    <tr>\n",
       "      <th>7</th>\n",
       "      <td>0.086</td>\n",
       "    </tr>\n",
       "    <tr>\n",
       "      <th>8</th>\n",
       "      <td>0.212</td>\n",
       "    </tr>\n",
       "    <tr>\n",
       "      <th>9</th>\n",
       "      <td>0.040</td>\n",
       "    </tr>\n",
       "    <tr>\n",
       "      <th>10</th>\n",
       "      <td>0.070</td>\n",
       "    </tr>\n",
       "    <tr>\n",
       "      <th>11</th>\n",
       "      <td>0.213</td>\n",
       "    </tr>\n",
       "    <tr>\n",
       "      <th>12</th>\n",
       "      <td>0.017</td>\n",
       "    </tr>\n",
       "    <tr>\n",
       "      <th>13</th>\n",
       "      <td>0.201</td>\n",
       "    </tr>\n",
       "    <tr>\n",
       "      <th>14</th>\n",
       "      <td>0.089</td>\n",
       "    </tr>\n",
       "    <tr>\n",
       "      <th>15</th>\n",
       "      <td>0.014</td>\n",
       "    </tr>\n",
       "    <tr>\n",
       "      <th>16</th>\n",
       "      <td>0.101</td>\n",
       "    </tr>\n",
       "    <tr>\n",
       "      <th>17</th>\n",
       "      <td>0.032</td>\n",
       "    </tr>\n",
       "    <tr>\n",
       "      <th>18</th>\n",
       "      <td>0.076</td>\n",
       "    </tr>\n",
       "    <tr>\n",
       "      <th>19</th>\n",
       "      <td>0.208</td>\n",
       "    </tr>\n",
       "    <tr>\n",
       "      <th>20</th>\n",
       "      <td>0.020</td>\n",
       "    </tr>\n",
       "    <tr>\n",
       "      <th>21</th>\n",
       "      <td>0.084</td>\n",
       "    </tr>\n",
       "    <tr>\n",
       "      <th>22</th>\n",
       "      <td>0.110</td>\n",
       "    </tr>\n",
       "    <tr>\n",
       "      <th>23</th>\n",
       "      <td>0.043</td>\n",
       "    </tr>\n",
       "    <tr>\n",
       "      <th>24</th>\n",
       "      <td>0.068</td>\n",
       "    </tr>\n",
       "    <tr>\n",
       "      <th>25</th>\n",
       "      <td>0.050</td>\n",
       "    </tr>\n",
       "    <tr>\n",
       "      <th>26</th>\n",
       "      <td>0.087</td>\n",
       "    </tr>\n",
       "    <tr>\n",
       "      <th>27</th>\n",
       "      <td>0.050</td>\n",
       "    </tr>\n",
       "    <tr>\n",
       "      <th>28</th>\n",
       "      <td>0.099</td>\n",
       "    </tr>\n",
       "    <tr>\n",
       "      <th>29</th>\n",
       "      <td>0.030</td>\n",
       "    </tr>\n",
       "    <tr>\n",
       "      <th>...</th>\n",
       "      <td>...</td>\n",
       "    </tr>\n",
       "    <tr>\n",
       "      <th>299719</th>\n",
       "      <td>0.005</td>\n",
       "    </tr>\n",
       "    <tr>\n",
       "      <th>299720</th>\n",
       "      <td>0.055</td>\n",
       "    </tr>\n",
       "    <tr>\n",
       "      <th>299721</th>\n",
       "      <td>0.030</td>\n",
       "    </tr>\n",
       "    <tr>\n",
       "      <th>299722</th>\n",
       "      <td>0.051</td>\n",
       "    </tr>\n",
       "    <tr>\n",
       "      <th>299723</th>\n",
       "      <td>0.023</td>\n",
       "    </tr>\n",
       "    <tr>\n",
       "      <th>299724</th>\n",
       "      <td>0.090</td>\n",
       "    </tr>\n",
       "    <tr>\n",
       "      <th>299725</th>\n",
       "      <td>0.070</td>\n",
       "    </tr>\n",
       "    <tr>\n",
       "      <th>299726</th>\n",
       "      <td>0.034</td>\n",
       "    </tr>\n",
       "    <tr>\n",
       "      <th>299727</th>\n",
       "      <td>0.069</td>\n",
       "    </tr>\n",
       "    <tr>\n",
       "      <th>299728</th>\n",
       "      <td>0.182</td>\n",
       "    </tr>\n",
       "    <tr>\n",
       "      <th>299729</th>\n",
       "      <td>0.051</td>\n",
       "    </tr>\n",
       "    <tr>\n",
       "      <th>299730</th>\n",
       "      <td>0.080</td>\n",
       "    </tr>\n",
       "    <tr>\n",
       "      <th>299731</th>\n",
       "      <td>0.075</td>\n",
       "    </tr>\n",
       "    <tr>\n",
       "      <th>299732</th>\n",
       "      <td>0.073</td>\n",
       "    </tr>\n",
       "    <tr>\n",
       "      <th>299733</th>\n",
       "      <td>0.040</td>\n",
       "    </tr>\n",
       "    <tr>\n",
       "      <th>299734</th>\n",
       "      <td>0.006</td>\n",
       "    </tr>\n",
       "    <tr>\n",
       "      <th>299735</th>\n",
       "      <td>0.213</td>\n",
       "    </tr>\n",
       "    <tr>\n",
       "      <th>299736</th>\n",
       "      <td>0.060</td>\n",
       "    </tr>\n",
       "    <tr>\n",
       "      <th>299737</th>\n",
       "      <td>0.008</td>\n",
       "    </tr>\n",
       "    <tr>\n",
       "      <th>299738</th>\n",
       "      <td>0.021</td>\n",
       "    </tr>\n",
       "    <tr>\n",
       "      <th>299739</th>\n",
       "      <td>0.030</td>\n",
       "    </tr>\n",
       "    <tr>\n",
       "      <th>299740</th>\n",
       "      <td>0.158</td>\n",
       "    </tr>\n",
       "    <tr>\n",
       "      <th>299741</th>\n",
       "      <td>0.089</td>\n",
       "    </tr>\n",
       "    <tr>\n",
       "      <th>299742</th>\n",
       "      <td>0.004</td>\n",
       "    </tr>\n",
       "    <tr>\n",
       "      <th>299743</th>\n",
       "      <td>0.124</td>\n",
       "    </tr>\n",
       "    <tr>\n",
       "      <th>299744</th>\n",
       "      <td>0.025</td>\n",
       "    </tr>\n",
       "    <tr>\n",
       "      <th>299745</th>\n",
       "      <td>0.002</td>\n",
       "    </tr>\n",
       "    <tr>\n",
       "      <th>299746</th>\n",
       "      <td>0.022</td>\n",
       "    </tr>\n",
       "    <tr>\n",
       "      <th>299747</th>\n",
       "      <td>0.072</td>\n",
       "    </tr>\n",
       "    <tr>\n",
       "      <th>299748</th>\n",
       "      <td>0.012</td>\n",
       "    </tr>\n",
       "  </tbody>\n",
       "</table>\n",
       "<p>299749 rows × 1 columns</p>\n",
       "</div>"
      ],
      "text/plain": [
       "        pre_bid\n",
       "0         0.102\n",
       "1         0.118\n",
       "2         0.077\n",
       "3         0.077\n",
       "4         0.178\n",
       "5         0.049\n",
       "6         0.052\n",
       "7         0.086\n",
       "8         0.212\n",
       "9         0.040\n",
       "10        0.070\n",
       "11        0.213\n",
       "12        0.017\n",
       "13        0.201\n",
       "14        0.089\n",
       "15        0.014\n",
       "16        0.101\n",
       "17        0.032\n",
       "18        0.076\n",
       "19        0.208\n",
       "20        0.020\n",
       "21        0.084\n",
       "22        0.110\n",
       "23        0.043\n",
       "24        0.068\n",
       "25        0.050\n",
       "26        0.087\n",
       "27        0.050\n",
       "28        0.099\n",
       "29        0.030\n",
       "...         ...\n",
       "299719    0.005\n",
       "299720    0.055\n",
       "299721    0.030\n",
       "299722    0.051\n",
       "299723    0.023\n",
       "299724    0.090\n",
       "299725    0.070\n",
       "299726    0.034\n",
       "299727    0.069\n",
       "299728    0.182\n",
       "299729    0.051\n",
       "299730    0.080\n",
       "299731    0.075\n",
       "299732    0.073\n",
       "299733    0.040\n",
       "299734    0.006\n",
       "299735    0.213\n",
       "299736    0.060\n",
       "299737    0.008\n",
       "299738    0.021\n",
       "299739    0.030\n",
       "299740    0.158\n",
       "299741    0.089\n",
       "299742    0.004\n",
       "299743    0.124\n",
       "299744    0.025\n",
       "299745    0.002\n",
       "299746    0.022\n",
       "299747    0.072\n",
       "299748    0.012\n",
       "\n",
       "[299749 rows x 1 columns]"
      ]
     },
     "execution_count": 292,
     "metadata": {},
     "output_type": "execute_result"
    }
   ],
   "source": [
    "new_bid"
   ]
  },
  {
   "cell_type": "code",
   "execution_count": 293,
   "metadata": {
    "collapsed": false
   },
   "outputs": [],
   "source": [
    "frames=[valid,new_bid]\n",
    "new_valid=pd.concat(frames,axis=1)"
   ]
  },
  {
   "cell_type": "code",
   "execution_count": 294,
   "metadata": {
    "collapsed": false
   },
   "outputs": [],
   "source": [
    "new_valid=new_valid[new_valid.pre_bid!=0]"
   ]
  },
  {
   "cell_type": "code",
   "execution_count": 295,
   "metadata": {
    "collapsed": false
   },
   "outputs": [
    {
     "data": {
      "text/html": [
       "<div>\n",
       "<table border=\"1\" class=\"dataframe\">\n",
       "  <thead>\n",
       "    <tr style=\"text-align: right;\">\n",
       "      <th></th>\n",
       "      <th>click</th>\n",
       "      <th>weekday</th>\n",
       "      <th>hour</th>\n",
       "      <th>bidid</th>\n",
       "      <th>logtype</th>\n",
       "      <th>userid</th>\n",
       "      <th>useragent</th>\n",
       "      <th>IP</th>\n",
       "      <th>region</th>\n",
       "      <th>city</th>\n",
       "      <th>...</th>\n",
       "      <th>slotformat</th>\n",
       "      <th>slotprice</th>\n",
       "      <th>creative</th>\n",
       "      <th>bidprice</th>\n",
       "      <th>payprice</th>\n",
       "      <th>keypage</th>\n",
       "      <th>advertiser</th>\n",
       "      <th>usertag</th>\n",
       "      <th>area</th>\n",
       "      <th>pre_bid</th>\n",
       "    </tr>\n",
       "  </thead>\n",
       "  <tbody>\n",
       "    <tr>\n",
       "      <th>0</th>\n",
       "      <td>0</td>\n",
       "      <td>5</td>\n",
       "      <td>14</td>\n",
       "      <td>91c6a6b9e90c0f54d3230815a5a3e22e</td>\n",
       "      <td>1</td>\n",
       "      <td>u_Vhk7C5STO8TZ3s8</td>\n",
       "      <td>windows_ie</td>\n",
       "      <td>14.122.240.*</td>\n",
       "      <td>216</td>\n",
       "      <td>232</td>\n",
       "      <td>...</td>\n",
       "      <td>1</td>\n",
       "      <td>0</td>\n",
       "      <td>449a22cd91d9042eda3d3a1b89a22ea8</td>\n",
       "      <td>227</td>\n",
       "      <td>102</td>\n",
       "      <td>0f951a030abdaedd733ee8d114ce2944</td>\n",
       "      <td>7</td>\n",
       "      <td>10006,10063,10059,10111</td>\n",
       "      <td>15</td>\n",
       "      <td>0.102</td>\n",
       "    </tr>\n",
       "    <tr>\n",
       "      <th>1</th>\n",
       "      <td>0</td>\n",
       "      <td>3</td>\n",
       "      <td>14</td>\n",
       "      <td>24b3621ad3b063b6c09c541781d534b3</td>\n",
       "      <td>1</td>\n",
       "      <td>u_DANDbCAksMy</td>\n",
       "      <td>android_safari</td>\n",
       "      <td>116.22.55.*</td>\n",
       "      <td>216</td>\n",
       "      <td>217</td>\n",
       "      <td>...</td>\n",
       "      <td>3</td>\n",
       "      <td>115</td>\n",
       "      <td>11908</td>\n",
       "      <td>277</td>\n",
       "      <td>118</td>\n",
       "      <td>null</td>\n",
       "      <td>4</td>\n",
       "      <td>null</td>\n",
       "      <td>2</td>\n",
       "      <td>0.118</td>\n",
       "    </tr>\n",
       "    <tr>\n",
       "      <th>2</th>\n",
       "      <td>0</td>\n",
       "      <td>1</td>\n",
       "      <td>13</td>\n",
       "      <td>6e7bce0a9ad42f479827d37bf9618a9d</td>\n",
       "      <td>1</td>\n",
       "      <td>u_VhkxPnKHPo1H3Vb</td>\n",
       "      <td>windows_ie</td>\n",
       "      <td>60.215.242.*</td>\n",
       "      <td>146</td>\n",
       "      <td>149</td>\n",
       "      <td>...</td>\n",
       "      <td>0</td>\n",
       "      <td>67</td>\n",
       "      <td>d01411218cc79bc49d2a4078c4093b76</td>\n",
       "      <td>241</td>\n",
       "      <td>77</td>\n",
       "      <td>b2e35064f3549d447edbbdfb1f707c8c</td>\n",
       "      <td>7</td>\n",
       "      <td>null</td>\n",
       "      <td>21</td>\n",
       "      <td>0.077</td>\n",
       "    </tr>\n",
       "  </tbody>\n",
       "</table>\n",
       "<p>3 rows × 28 columns</p>\n",
       "</div>"
      ],
      "text/plain": [
       "   click  weekday  hour                             bidid  logtype  \\\n",
       "0      0        5    14  91c6a6b9e90c0f54d3230815a5a3e22e        1   \n",
       "1      0        3    14  24b3621ad3b063b6c09c541781d534b3        1   \n",
       "2      0        1    13  6e7bce0a9ad42f479827d37bf9618a9d        1   \n",
       "\n",
       "              userid       useragent            IP  region  city   ...     \\\n",
       "0  u_Vhk7C5STO8TZ3s8      windows_ie  14.122.240.*     216   232   ...      \n",
       "1      u_DANDbCAksMy  android_safari   116.22.55.*     216   217   ...      \n",
       "2  u_VhkxPnKHPo1H3Vb      windows_ie  60.215.242.*     146   149   ...      \n",
       "\n",
       "   slotformat slotprice                          creative bidprice payprice  \\\n",
       "0           1         0  449a22cd91d9042eda3d3a1b89a22ea8      227      102   \n",
       "1           3       115                             11908      277      118   \n",
       "2           0        67  d01411218cc79bc49d2a4078c4093b76      241       77   \n",
       "\n",
       "                            keypage  advertiser                  usertag  \\\n",
       "0  0f951a030abdaedd733ee8d114ce2944           7  10006,10063,10059,10111   \n",
       "1                              null           4                     null   \n",
       "2  b2e35064f3549d447edbbdfb1f707c8c           7                     null   \n",
       "\n",
       "   area  pre_bid  \n",
       "0    15    0.102  \n",
       "1     2    0.118  \n",
       "2    21    0.077  \n",
       "\n",
       "[3 rows x 28 columns]"
      ]
     },
     "execution_count": 295,
     "metadata": {},
     "output_type": "execute_result"
    }
   ],
   "source": [
    "new_valid[:3]"
   ]
  },
  {
   "cell_type": "code",
   "execution_count": 283,
   "metadata": {
    "collapsed": false,
    "scrolled": true
   },
   "outputs": [
    {
     "name": "stdout",
     "output_type": "stream",
     "text": [
      "0.000754389478603\n",
      "226\n",
      "24016.232\n",
      "80.166339542\n",
      "106.266513274\n"
     ]
    }
   ],
   "source": [
    "ctr_cons= sum(new_valid.click)/len(new_valid)\n",
    "click_cons = sum(new_valid.click)\n",
    "cost=sum(new_valid[\"payprice\"])/1000\n",
    "avg_CPM = sum(new_valid.payprice)/1000/(len(new_valid.logtype)/1000)\n",
    "eCPC = sum(new_valid.payprice)/1000/sum(new_valid.click)\n",
    "print(ctr_cons)\n",
    "print(click_cons)\n",
    "print(cost)\n",
    "print(avg_CPM)\n",
    "print(eCPC)"
   ]
  },
  {
   "cell_type": "code",
   "execution_count": 284,
   "metadata": {
    "collapsed": true
   },
   "outputs": [],
   "source": [
    "cumsum_cost = np.cumsum(new_valid.payprice)\n",
    "new_valid[\"cumsum_cost\"] = cumsum_cost\n",
    "new_valid1 = new_valid.loc[(cumsum_cost < 3125000)]\n",
    "new_valid2 = new_valid.loc[(cumsum_cost < 6250000)]\n"
   ]
  },
  {
   "cell_type": "code",
   "execution_count": 285,
   "metadata": {
    "collapsed": false,
    "scrolled": false
   },
   "outputs": [
    {
     "name": "stdout",
     "output_type": "stream",
     "text": [
      "0.00107999691429\n",
      "42\n",
      "3124.983\n",
      "80.3564761244\n",
      "74.4043571429\n"
     ]
    }
   ],
   "source": [
    "ctr_cons= sum(new_valid1.click)/len(new_valid1)\n",
    "click_cons = sum(new_valid1.click)\n",
    "cost=sum(new_valid1[\"payprice\"])/1000\n",
    "avg_CPM = sum(new_valid1.payprice)/1000/(len(new_valid1.logtype)/1000)\n",
    "eCPC = sum(new_valid1.payprice)/1000/sum(new_valid1.click)\n",
    "print(ctr_cons)\n",
    "print(click_cons)\n",
    "print(cost)\n",
    "print(avg_CPM)\n",
    "print(eCPC)"
   ]
  },
  {
   "cell_type": "code",
   "execution_count": 286,
   "metadata": {
    "collapsed": false
   },
   "outputs": [
    {
     "name": "stdout",
     "output_type": "stream",
     "text": [
      "0.000883290448942\n",
      "69\n",
      "6249.87\n",
      "80.0065286685\n",
      "90.577826087\n"
     ]
    }
   ],
   "source": [
    "ctr_cons= sum(new_valid2.click)/len(new_valid2)\n",
    "click_cons = sum(new_valid2.click)\n",
    "cost=sum(new_valid2[\"payprice\"])/1000\n",
    "avg_CPM = sum(new_valid2.payprice)/1000/(len(new_valid2.logtype)/1000)\n",
    "eCPC = sum(new_valid2.payprice)/1000/sum(new_valid2.click)\n",
    "print(ctr_cons)\n",
    "print(click_cons)\n",
    "print(cost)\n",
    "print(avg_CPM)\n",
    "print(eCPC)"
   ]
  },
  {
   "cell_type": "code",
   "execution_count": 266,
   "metadata": {
    "collapsed": false
   },
   "outputs": [],
   "source": [
    "#win_1 = valid.loc[(constant_price > valid[\"bidprice\"] )]"
   ]
  },
  {
   "cell_type": "code",
   "execution_count": null,
   "metadata": {
    "collapsed": false
   },
   "outputs": [],
   "source": []
  },
  {
   "cell_type": "code",
   "execution_count": null,
   "metadata": {
    "collapsed": true
   },
   "outputs": [],
   "source": []
  },
  {
   "cell_type": "code",
   "execution_count": null,
   "metadata": {
    "collapsed": true
   },
   "outputs": [],
   "source": []
  }
 ],
 "metadata": {
  "anaconda-cloud": {},
  "kernelspec": {
   "display_name": "Python [conda root]",
   "language": "python",
   "name": "conda-root-py"
  },
  "language_info": {
   "codemirror_mode": {
    "name": "ipython",
    "version": 3
   },
   "file_extension": ".py",
   "mimetype": "text/x-python",
   "name": "python",
   "nbconvert_exporter": "python",
   "pygments_lexer": "ipython3",
   "version": "3.5.2"
  }
 },
 "nbformat": 4,
 "nbformat_minor": 1
}
